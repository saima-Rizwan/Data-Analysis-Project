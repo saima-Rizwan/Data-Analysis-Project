{
 "cells": [
  {
   "cell_type": "code",
   "execution_count": 1,
   "id": "f495fcd3",
   "metadata": {},
   "outputs": [],
   "source": [
    "import numpy as np"
   ]
  },
  {
   "cell_type": "code",
   "execution_count": 2,
   "id": "deec7faf",
   "metadata": {},
   "outputs": [],
   "source": [
    "import pandas as pd"
   ]
  },
  {
   "cell_type": "code",
   "execution_count": 3,
   "id": "d12f6f2c",
   "metadata": {},
   "outputs": [],
   "source": [
    "import seaborn as sns\n",
    "import matplotlib.pyplot as plt"
   ]
  },
  {
   "cell_type": "code",
   "execution_count": 4,
   "id": "1ea560a9",
   "metadata": {},
   "outputs": [
    {
     "data": {
      "text/html": [
       "<div>\n",
       "<style scoped>\n",
       "    .dataframe tbody tr th:only-of-type {\n",
       "        vertical-align: middle;\n",
       "    }\n",
       "\n",
       "    .dataframe tbody tr th {\n",
       "        vertical-align: top;\n",
       "    }\n",
       "\n",
       "    .dataframe thead th {\n",
       "        text-align: right;\n",
       "    }\n",
       "</style>\n",
       "<table border=\"1\" class=\"dataframe\">\n",
       "  <thead>\n",
       "    <tr style=\"text-align: right;\">\n",
       "      <th></th>\n",
       "      <th>Rank</th>\n",
       "      <th>Username</th>\n",
       "      <th>Categories</th>\n",
       "      <th>Suscribers</th>\n",
       "      <th>Country</th>\n",
       "      <th>Visits</th>\n",
       "      <th>Likes</th>\n",
       "      <th>Comments</th>\n",
       "      <th>Links</th>\n",
       "    </tr>\n",
       "  </thead>\n",
       "  <tbody>\n",
       "    <tr>\n",
       "      <th>0</th>\n",
       "      <td>1</td>\n",
       "      <td>tseries</td>\n",
       "      <td>Música y baile</td>\n",
       "      <td>249500000.0</td>\n",
       "      <td>India</td>\n",
       "      <td>86200.0</td>\n",
       "      <td>2700.0</td>\n",
       "      <td>78.0</td>\n",
       "      <td>http://youtube.com/channel/UCq-Fj5jknLsUf-MWSy...</td>\n",
       "    </tr>\n",
       "    <tr>\n",
       "      <th>1</th>\n",
       "      <td>2</td>\n",
       "      <td>MrBeast</td>\n",
       "      <td>Videojuegos, Humor</td>\n",
       "      <td>183500000.0</td>\n",
       "      <td>Estados Unidos</td>\n",
       "      <td>117400000.0</td>\n",
       "      <td>5300000.0</td>\n",
       "      <td>18500.0</td>\n",
       "      <td>http://youtube.com/channel/UCX6OQ3DkcsbYNE6H8u...</td>\n",
       "    </tr>\n",
       "    <tr>\n",
       "      <th>2</th>\n",
       "      <td>3</td>\n",
       "      <td>CoComelon</td>\n",
       "      <td>Educación</td>\n",
       "      <td>165500000.0</td>\n",
       "      <td>Unknown</td>\n",
       "      <td>7000000.0</td>\n",
       "      <td>24700.0</td>\n",
       "      <td>0.0</td>\n",
       "      <td>http://youtube.com/channel/UCbCmjCuTUZos6Inko4...</td>\n",
       "    </tr>\n",
       "    <tr>\n",
       "      <th>3</th>\n",
       "      <td>4</td>\n",
       "      <td>SETIndia</td>\n",
       "      <td>NaN</td>\n",
       "      <td>162600000.0</td>\n",
       "      <td>India</td>\n",
       "      <td>15600.0</td>\n",
       "      <td>166.0</td>\n",
       "      <td>9.0</td>\n",
       "      <td>http://youtube.com/channel/UCpEhnqL0y41EpW2TvW...</td>\n",
       "    </tr>\n",
       "    <tr>\n",
       "      <th>4</th>\n",
       "      <td>5</td>\n",
       "      <td>KidsDianaShow</td>\n",
       "      <td>Animación, Juguetes</td>\n",
       "      <td>113500000.0</td>\n",
       "      <td>Unknown</td>\n",
       "      <td>3900000.0</td>\n",
       "      <td>12400.0</td>\n",
       "      <td>0.0</td>\n",
       "      <td>http://youtube.com/channel/UCk8GzjMOrta8yxDcKf...</td>\n",
       "    </tr>\n",
       "    <tr>\n",
       "      <th>...</th>\n",
       "      <td>...</td>\n",
       "      <td>...</td>\n",
       "      <td>...</td>\n",
       "      <td>...</td>\n",
       "      <td>...</td>\n",
       "      <td>...</td>\n",
       "      <td>...</td>\n",
       "      <td>...</td>\n",
       "      <td>...</td>\n",
       "    </tr>\n",
       "    <tr>\n",
       "      <th>995</th>\n",
       "      <td>996</td>\n",
       "      <td>hamzymukbang</td>\n",
       "      <td>NaN</td>\n",
       "      <td>11700000.0</td>\n",
       "      <td>Estados Unidos</td>\n",
       "      <td>397400.0</td>\n",
       "      <td>14000.0</td>\n",
       "      <td>124.0</td>\n",
       "      <td>http://youtube.com/channel/UCPKNKldggioffXPkSm...</td>\n",
       "    </tr>\n",
       "    <tr>\n",
       "      <th>996</th>\n",
       "      <td>997</td>\n",
       "      <td>Adaahqueen</td>\n",
       "      <td>NaN</td>\n",
       "      <td>11700000.0</td>\n",
       "      <td>India</td>\n",
       "      <td>1100000.0</td>\n",
       "      <td>92500.0</td>\n",
       "      <td>164.0</td>\n",
       "      <td>http://youtube.com/channel/UCk3fFpqI5kDMf__mUP...</td>\n",
       "    </tr>\n",
       "    <tr>\n",
       "      <th>997</th>\n",
       "      <td>998</td>\n",
       "      <td>LittleAngelIndonesia</td>\n",
       "      <td>Música y baile</td>\n",
       "      <td>11700000.0</td>\n",
       "      <td>Unknown</td>\n",
       "      <td>211400.0</td>\n",
       "      <td>745.0</td>\n",
       "      <td>0.0</td>\n",
       "      <td>http://youtube.com/channel/UCdrHrQf0o0TO8YDntX...</td>\n",
       "    </tr>\n",
       "    <tr>\n",
       "      <th>998</th>\n",
       "      <td>999</td>\n",
       "      <td>PenMultiplex</td>\n",
       "      <td>NaN</td>\n",
       "      <td>11700000.0</td>\n",
       "      <td>India</td>\n",
       "      <td>14000.0</td>\n",
       "      <td>81.0</td>\n",
       "      <td>1.0</td>\n",
       "      <td>http://youtube.com/channel/UCObyBrdrtQ20BU9PxH...</td>\n",
       "    </tr>\n",
       "    <tr>\n",
       "      <th>999</th>\n",
       "      <td>1000</td>\n",
       "      <td>OneindiaHindi</td>\n",
       "      <td>Noticias y Política</td>\n",
       "      <td>11700000.0</td>\n",
       "      <td>India</td>\n",
       "      <td>2200.0</td>\n",
       "      <td>31.0</td>\n",
       "      <td>1.0</td>\n",
       "      <td>http://youtube.com/channel/UCOjgc1p2hJ4GZi6pQQ...</td>\n",
       "    </tr>\n",
       "  </tbody>\n",
       "</table>\n",
       "<p>1000 rows × 9 columns</p>\n",
       "</div>"
      ],
      "text/plain": [
       "     Rank              Username           Categories   Suscribers  \\\n",
       "0       1               tseries       Música y baile  249500000.0   \n",
       "1       2               MrBeast   Videojuegos, Humor  183500000.0   \n",
       "2       3             CoComelon            Educación  165500000.0   \n",
       "3       4              SETIndia                  NaN  162600000.0   \n",
       "4       5         KidsDianaShow  Animación, Juguetes  113500000.0   \n",
       "..    ...                   ...                  ...          ...   \n",
       "995   996          hamzymukbang                  NaN   11700000.0   \n",
       "996   997            Adaahqueen                  NaN   11700000.0   \n",
       "997   998  LittleAngelIndonesia       Música y baile   11700000.0   \n",
       "998   999          PenMultiplex                  NaN   11700000.0   \n",
       "999  1000         OneindiaHindi  Noticias y Política   11700000.0   \n",
       "\n",
       "            Country       Visits      Likes  Comments  \\\n",
       "0             India      86200.0     2700.0      78.0   \n",
       "1    Estados Unidos  117400000.0  5300000.0   18500.0   \n",
       "2           Unknown    7000000.0    24700.0       0.0   \n",
       "3             India      15600.0      166.0       9.0   \n",
       "4           Unknown    3900000.0    12400.0       0.0   \n",
       "..              ...          ...        ...       ...   \n",
       "995  Estados Unidos     397400.0    14000.0     124.0   \n",
       "996           India    1100000.0    92500.0     164.0   \n",
       "997         Unknown     211400.0      745.0       0.0   \n",
       "998           India      14000.0       81.0       1.0   \n",
       "999           India       2200.0       31.0       1.0   \n",
       "\n",
       "                                                 Links  \n",
       "0    http://youtube.com/channel/UCq-Fj5jknLsUf-MWSy...  \n",
       "1    http://youtube.com/channel/UCX6OQ3DkcsbYNE6H8u...  \n",
       "2    http://youtube.com/channel/UCbCmjCuTUZos6Inko4...  \n",
       "3    http://youtube.com/channel/UCpEhnqL0y41EpW2TvW...  \n",
       "4    http://youtube.com/channel/UCk8GzjMOrta8yxDcKf...  \n",
       "..                                                 ...  \n",
       "995  http://youtube.com/channel/UCPKNKldggioffXPkSm...  \n",
       "996  http://youtube.com/channel/UCk3fFpqI5kDMf__mUP...  \n",
       "997  http://youtube.com/channel/UCdrHrQf0o0TO8YDntX...  \n",
       "998  http://youtube.com/channel/UCObyBrdrtQ20BU9PxH...  \n",
       "999  http://youtube.com/channel/UCOjgc1p2hJ4GZi6pQQ...  \n",
       "\n",
       "[1000 rows x 9 columns]"
      ]
     },
     "execution_count": 4,
     "metadata": {},
     "output_type": "execute_result"
    }
   ],
   "source": [
    "df=pd.read_csv(\"C:\\\\Users\\\\Rizwan Ramzan\\\\OneDrive\\\\Desktop\\\\youtubers_df.csv\")\n",
    "df"
   ]
  },
  {
   "cell_type": "markdown",
   "id": "f1d92284",
   "metadata": {},
   "source": [
    "# Data Exploration"
   ]
  },
  {
   "cell_type": "code",
   "execution_count": 5,
   "id": "f92b4212",
   "metadata": {},
   "outputs": [
    {
     "name": "stdout",
     "output_type": "stream",
     "text": [
      "<class 'pandas.core.frame.DataFrame'>\n",
      "RangeIndex: 1000 entries, 0 to 999\n",
      "Data columns (total 9 columns):\n",
      " #   Column      Non-Null Count  Dtype  \n",
      "---  ------      --------------  -----  \n",
      " 0   Rank        1000 non-null   int64  \n",
      " 1   Username    1000 non-null   object \n",
      " 2   Categories  694 non-null    object \n",
      " 3   Suscribers  1000 non-null   float64\n",
      " 4   Country     1000 non-null   object \n",
      " 5   Visits      1000 non-null   float64\n",
      " 6   Likes       1000 non-null   float64\n",
      " 7   Comments    1000 non-null   float64\n",
      " 8   Links       1000 non-null   object \n",
      "dtypes: float64(4), int64(1), object(4)\n",
      "memory usage: 70.4+ KB\n"
     ]
    }
   ],
   "source": [
    "df.info()"
   ]
  },
  {
   "cell_type": "code",
   "execution_count": 6,
   "id": "3e570589",
   "metadata": {},
   "outputs": [
    {
     "data": {
      "text/plain": [
       "(1000, 9)"
      ]
     },
     "execution_count": 6,
     "metadata": {},
     "output_type": "execute_result"
    }
   ],
   "source": [
    "df.shape"
   ]
  },
  {
   "cell_type": "code",
   "execution_count": 7,
   "id": "64362a47",
   "metadata": {},
   "outputs": [
    {
     "data": {
      "text/plain": [
       "Index(['Rank', 'Username', 'Categories', 'Suscribers', 'Country', 'Visits',\n",
       "       'Likes', 'Comments', 'Links'],\n",
       "      dtype='object')"
      ]
     },
     "execution_count": 7,
     "metadata": {},
     "output_type": "execute_result"
    }
   ],
   "source": [
    "df.columns"
   ]
  },
  {
   "cell_type": "markdown",
   "id": "ea59f904",
   "metadata": {},
   "source": [
    "# Check for missing data and outlier"
   ]
  },
  {
   "cell_type": "code",
   "execution_count": 8,
   "id": "a968f99d",
   "metadata": {},
   "outputs": [
    {
     "data": {
      "text/plain": [
       "Rank            0\n",
       "Username        0\n",
       "Categories    306\n",
       "Suscribers      0\n",
       "Country         0\n",
       "Visits          0\n",
       "Likes           0\n",
       "Comments        0\n",
       "Links           0\n",
       "dtype: int64"
      ]
     },
     "execution_count": 8,
     "metadata": {},
     "output_type": "execute_result"
    }
   ],
   "source": [
    "df.isnull().sum()"
   ]
  },
  {
   "cell_type": "code",
   "execution_count": 9,
   "id": "c3f5552e",
   "metadata": {},
   "outputs": [
    {
     "data": {
      "text/html": [
       "<div>\n",
       "<style scoped>\n",
       "    .dataframe tbody tr th:only-of-type {\n",
       "        vertical-align: middle;\n",
       "    }\n",
       "\n",
       "    .dataframe tbody tr th {\n",
       "        vertical-align: top;\n",
       "    }\n",
       "\n",
       "    .dataframe thead th {\n",
       "        text-align: right;\n",
       "    }\n",
       "</style>\n",
       "<table border=\"1\" class=\"dataframe\">\n",
       "  <thead>\n",
       "    <tr style=\"text-align: right;\">\n",
       "      <th></th>\n",
       "      <th>Rank</th>\n",
       "      <th>Username</th>\n",
       "      <th>Categories</th>\n",
       "      <th>Suscribers</th>\n",
       "      <th>Country</th>\n",
       "      <th>Visits</th>\n",
       "      <th>Likes</th>\n",
       "      <th>Comments</th>\n",
       "      <th>Links</th>\n",
       "    </tr>\n",
       "  </thead>\n",
       "  <tbody>\n",
       "    <tr>\n",
       "      <th>0</th>\n",
       "      <td>1</td>\n",
       "      <td>tseries</td>\n",
       "      <td>Música y baile</td>\n",
       "      <td>249500000.0</td>\n",
       "      <td>India</td>\n",
       "      <td>86200.0</td>\n",
       "      <td>2700.0</td>\n",
       "      <td>78.0</td>\n",
       "      <td>http://youtube.com/channel/UCq-Fj5jknLsUf-MWSy...</td>\n",
       "    </tr>\n",
       "    <tr>\n",
       "      <th>1</th>\n",
       "      <td>2</td>\n",
       "      <td>MrBeast</td>\n",
       "      <td>Videojuegos, Humor</td>\n",
       "      <td>183500000.0</td>\n",
       "      <td>Estados Unidos</td>\n",
       "      <td>117400000.0</td>\n",
       "      <td>5300000.0</td>\n",
       "      <td>18500.0</td>\n",
       "      <td>http://youtube.com/channel/UCX6OQ3DkcsbYNE6H8u...</td>\n",
       "    </tr>\n",
       "    <tr>\n",
       "      <th>2</th>\n",
       "      <td>3</td>\n",
       "      <td>CoComelon</td>\n",
       "      <td>Educación</td>\n",
       "      <td>165500000.0</td>\n",
       "      <td>Unknown</td>\n",
       "      <td>7000000.0</td>\n",
       "      <td>24700.0</td>\n",
       "      <td>0.0</td>\n",
       "      <td>http://youtube.com/channel/UCbCmjCuTUZos6Inko4...</td>\n",
       "    </tr>\n",
       "    <tr>\n",
       "      <th>4</th>\n",
       "      <td>5</td>\n",
       "      <td>KidsDianaShow</td>\n",
       "      <td>Animación, Juguetes</td>\n",
       "      <td>113500000.0</td>\n",
       "      <td>Unknown</td>\n",
       "      <td>3900000.0</td>\n",
       "      <td>12400.0</td>\n",
       "      <td>0.0</td>\n",
       "      <td>http://youtube.com/channel/UCk8GzjMOrta8yxDcKf...</td>\n",
       "    </tr>\n",
       "    <tr>\n",
       "      <th>5</th>\n",
       "      <td>6</td>\n",
       "      <td>PewDiePie</td>\n",
       "      <td>Películas, Videojuegos</td>\n",
       "      <td>111500000.0</td>\n",
       "      <td>Estados Unidos</td>\n",
       "      <td>2400000.0</td>\n",
       "      <td>197300.0</td>\n",
       "      <td>4900.0</td>\n",
       "      <td>http://youtube.com/channel/UC-lHJZR3Gqxm24_Vd_...</td>\n",
       "    </tr>\n",
       "    <tr>\n",
       "      <th>...</th>\n",
       "      <td>...</td>\n",
       "      <td>...</td>\n",
       "      <td>...</td>\n",
       "      <td>...</td>\n",
       "      <td>...</td>\n",
       "      <td>...</td>\n",
       "      <td>...</td>\n",
       "      <td>...</td>\n",
       "      <td>...</td>\n",
       "    </tr>\n",
       "    <tr>\n",
       "      <th>989</th>\n",
       "      <td>990</td>\n",
       "      <td>cut</td>\n",
       "      <td>Humor</td>\n",
       "      <td>11700000.0</td>\n",
       "      <td>Estados Unidos</td>\n",
       "      <td>359000.0</td>\n",
       "      <td>8800.0</td>\n",
       "      <td>342.0</td>\n",
       "      <td>http://youtube.com/channel/UCbaGn5VkOVlcRgIWAH...</td>\n",
       "    </tr>\n",
       "    <tr>\n",
       "      <th>990</th>\n",
       "      <td>991</td>\n",
       "      <td>JoeHattab</td>\n",
       "      <td>Películas</td>\n",
       "      <td>11700000.0</td>\n",
       "      <td>Somalia</td>\n",
       "      <td>1900000.0</td>\n",
       "      <td>98500.0</td>\n",
       "      <td>2900.0</td>\n",
       "      <td>http://youtube.com/channel/UCe6eisvsctSPvBhmin...</td>\n",
       "    </tr>\n",
       "    <tr>\n",
       "      <th>991</th>\n",
       "      <td>992</td>\n",
       "      <td>BeAmazed</td>\n",
       "      <td>Educación</td>\n",
       "      <td>11700000.0</td>\n",
       "      <td>Estados Unidos</td>\n",
       "      <td>477800.0</td>\n",
       "      <td>9900.0</td>\n",
       "      <td>556.0</td>\n",
       "      <td>http://youtube.com/channel/UCkQO3QsgTpNTsOw6uj...</td>\n",
       "    </tr>\n",
       "    <tr>\n",
       "      <th>997</th>\n",
       "      <td>998</td>\n",
       "      <td>LittleAngelIndonesia</td>\n",
       "      <td>Música y baile</td>\n",
       "      <td>11700000.0</td>\n",
       "      <td>Unknown</td>\n",
       "      <td>211400.0</td>\n",
       "      <td>745.0</td>\n",
       "      <td>0.0</td>\n",
       "      <td>http://youtube.com/channel/UCdrHrQf0o0TO8YDntX...</td>\n",
       "    </tr>\n",
       "    <tr>\n",
       "      <th>999</th>\n",
       "      <td>1000</td>\n",
       "      <td>OneindiaHindi</td>\n",
       "      <td>Noticias y Política</td>\n",
       "      <td>11700000.0</td>\n",
       "      <td>India</td>\n",
       "      <td>2200.0</td>\n",
       "      <td>31.0</td>\n",
       "      <td>1.0</td>\n",
       "      <td>http://youtube.com/channel/UCOjgc1p2hJ4GZi6pQQ...</td>\n",
       "    </tr>\n",
       "  </tbody>\n",
       "</table>\n",
       "<p>694 rows × 9 columns</p>\n",
       "</div>"
      ],
      "text/plain": [
       "     Rank              Username              Categories   Suscribers  \\\n",
       "0       1               tseries          Música y baile  249500000.0   \n",
       "1       2               MrBeast      Videojuegos, Humor  183500000.0   \n",
       "2       3             CoComelon               Educación  165500000.0   \n",
       "4       5         KidsDianaShow     Animación, Juguetes  113500000.0   \n",
       "5       6             PewDiePie  Películas, Videojuegos  111500000.0   \n",
       "..    ...                   ...                     ...          ...   \n",
       "989   990                   cut                   Humor   11700000.0   \n",
       "990   991             JoeHattab               Películas   11700000.0   \n",
       "991   992              BeAmazed               Educación   11700000.0   \n",
       "997   998  LittleAngelIndonesia          Música y baile   11700000.0   \n",
       "999  1000         OneindiaHindi     Noticias y Política   11700000.0   \n",
       "\n",
       "            Country       Visits      Likes  Comments  \\\n",
       "0             India      86200.0     2700.0      78.0   \n",
       "1    Estados Unidos  117400000.0  5300000.0   18500.0   \n",
       "2           Unknown    7000000.0    24700.0       0.0   \n",
       "4           Unknown    3900000.0    12400.0       0.0   \n",
       "5    Estados Unidos    2400000.0   197300.0    4900.0   \n",
       "..              ...          ...        ...       ...   \n",
       "989  Estados Unidos     359000.0     8800.0     342.0   \n",
       "990         Somalia    1900000.0    98500.0    2900.0   \n",
       "991  Estados Unidos     477800.0     9900.0     556.0   \n",
       "997         Unknown     211400.0      745.0       0.0   \n",
       "999           India       2200.0       31.0       1.0   \n",
       "\n",
       "                                                 Links  \n",
       "0    http://youtube.com/channel/UCq-Fj5jknLsUf-MWSy...  \n",
       "1    http://youtube.com/channel/UCX6OQ3DkcsbYNE6H8u...  \n",
       "2    http://youtube.com/channel/UCbCmjCuTUZos6Inko4...  \n",
       "4    http://youtube.com/channel/UCk8GzjMOrta8yxDcKf...  \n",
       "5    http://youtube.com/channel/UC-lHJZR3Gqxm24_Vd_...  \n",
       "..                                                 ...  \n",
       "989  http://youtube.com/channel/UCbaGn5VkOVlcRgIWAH...  \n",
       "990  http://youtube.com/channel/UCe6eisvsctSPvBhmin...  \n",
       "991  http://youtube.com/channel/UCkQO3QsgTpNTsOw6uj...  \n",
       "997  http://youtube.com/channel/UCdrHrQf0o0TO8YDntX...  \n",
       "999  http://youtube.com/channel/UCOjgc1p2hJ4GZi6pQQ...  \n",
       "\n",
       "[694 rows x 9 columns]"
      ]
     },
     "execution_count": 9,
     "metadata": {},
     "output_type": "execute_result"
    }
   ],
   "source": [
    "df=df.dropna()\n",
    "df"
   ]
  },
  {
   "cell_type": "code",
   "execution_count": 10,
   "id": "bf0ef6a1",
   "metadata": {},
   "outputs": [
    {
     "data": {
      "text/plain": [
       "Rank          0\n",
       "Username      0\n",
       "Categories    0\n",
       "Suscribers    0\n",
       "Country       0\n",
       "Visits        0\n",
       "Likes         0\n",
       "Comments      0\n",
       "Links         0\n",
       "dtype: int64"
      ]
     },
     "execution_count": 10,
     "metadata": {},
     "output_type": "execute_result"
    }
   ],
   "source": [
    "df.isnull().sum()"
   ]
  },
  {
   "cell_type": "code",
   "execution_count": 11,
   "id": "4cd7dc01",
   "metadata": {},
   "outputs": [
    {
     "data": {
      "text/plain": [
       "0      False\n",
       "1      False\n",
       "2      False\n",
       "4      False\n",
       "5      False\n",
       "       ...  \n",
       "989    False\n",
       "990    False\n",
       "991    False\n",
       "997    False\n",
       "999    False\n",
       "Length: 694, dtype: bool"
      ]
     },
     "execution_count": 11,
     "metadata": {},
     "output_type": "execute_result"
    }
   ],
   "source": [
    "df.duplicated()"
   ]
  },
  {
   "cell_type": "code",
   "execution_count": 12,
   "id": "493e0359",
   "metadata": {},
   "outputs": [
    {
     "data": {
      "text/plain": [
       "Rank            int64\n",
       "Username       object\n",
       "Categories     object\n",
       "Suscribers    float64\n",
       "Country        object\n",
       "Visits        float64\n",
       "Likes         float64\n",
       "Comments      float64\n",
       "Links          object\n",
       "dtype: object"
      ]
     },
     "execution_count": 12,
     "metadata": {},
     "output_type": "execute_result"
    }
   ],
   "source": [
    "df.dtypes"
   ]
  },
  {
   "cell_type": "markdown",
   "id": "57f0a579",
   "metadata": {},
   "source": [
    "# checking outlier"
   ]
  },
  {
   "cell_type": "code",
   "execution_count": 13,
   "id": "ed2db6a9",
   "metadata": {},
   "outputs": [
    {
     "data": {
      "image/png": "[encoded data removed]",
      "text/plain": [
       "<Figure size 640x480 with 1 Axes>"
      ]
     },
     "metadata": {},
     "output_type": "display_data"
    }
   ],
   "source": [
    "sns.boxplot(data=df[['Rank']])\n",
    "plt.show()"
   ]
  },
  {
   "cell_type": "code",
   "execution_count": 14,
   "id": "e7018467",
   "metadata": {},
   "outputs": [
    {
     "data": {
      "image/png": "[encoded data removed]",
      "text/plain": [
       "<Figure size 640x480 with 1 Axes>"
      ]
     },
     "metadata": {},
     "output_type": "display_data"
    }
   ],
   "source": [
    "sns.boxplot(data=df[['Suscribers']])\n",
    "plt.show()"
   ]
  },
  {
   "cell_type": "code",
   "execution_count": 15,
   "id": "c8b0f8b0",
   "metadata": {},
   "outputs": [
    {
     "data": {
      "image/png": "[encoded data removed]",
      "text/plain": [
       "<Figure size 640x480 with 1 Axes>"
      ]
     },
     "metadata": {},
     "output_type": "display_data"
    }
   ],
   "source": [
    "sns.boxplot(data=df[['Visits']])\n",
    "plt.show()"
   ]
  },
  {
   "cell_type": "code",
   "execution_count": 16,
   "id": "16446d35",
   "metadata": {},
   "outputs": [
    {
     "data": {
      "image/png": "[encoded data removed]",
      "text/plain": [
       "<Figure size 640x480 with 1 Axes>"
      ]
     },
     "metadata": {},
     "output_type": "display_data"
    }
   ],
   "source": [
    "sns.boxplot(data=df[['Likes']])\n",
    "plt.show()"
   ]
  },
  {
   "cell_type": "markdown",
   "id": "eed763a4",
   "metadata": {},
   "source": [
    "# remove outlier Suscribers IQR method"
   ]
  },
  {
   "cell_type": "code",
   "execution_count": 17,
   "id": "58494af4",
   "metadata": {},
   "outputs": [
    {
     "data": {
      "text/plain": [
       "count    6.940000e+02\n",
       "mean     2.241556e+07\n",
       "std      1.824123e+07\n",
       "min      1.170000e+07\n",
       "25%      1.380000e+07\n",
       "50%      1.680000e+07\n",
       "75%      2.390000e+07\n",
       "max      2.495000e+08\n",
       "Name: Suscribers, dtype: float64"
      ]
     },
     "execution_count": 17,
     "metadata": {},
     "output_type": "execute_result"
    }
   ],
   "source": [
    "df['Suscribers'].describe()"
   ]
  },
  {
   "cell_type": "code",
   "execution_count": 18,
   "id": "49909760",
   "metadata": {},
   "outputs": [
    {
     "data": {
      "text/plain": [
       "23900000.0"
      ]
     },
     "execution_count": 18,
     "metadata": {},
     "output_type": "execute_result"
    }
   ],
   "source": [
    "subs_75=df['Suscribers'].quantile(0.75)\n",
    "subs_75"
   ]
  },
  {
   "cell_type": "code",
   "execution_count": 19,
   "id": "37c5f316",
   "metadata": {},
   "outputs": [
    {
     "data": {
      "text/plain": [
       "13800000.0"
      ]
     },
     "execution_count": 19,
     "metadata": {},
     "output_type": "execute_result"
    }
   ],
   "source": [
    "subs_25=df['Suscribers'].quantile(0.25)\n",
    "subs_25"
   ]
  },
  {
   "cell_type": "code",
   "execution_count": 20,
   "id": "70bbc6df",
   "metadata": {},
   "outputs": [
    {
     "data": {
      "text/plain": [
       "10100000.0"
      ]
     },
     "execution_count": 20,
     "metadata": {},
     "output_type": "execute_result"
    }
   ],
   "source": [
    "iqr= subs_75 - subs_25\n",
    "iqr"
   ]
  },
  {
   "cell_type": "code",
   "execution_count": 21,
   "id": "44126191",
   "metadata": {},
   "outputs": [
    {
     "data": {
      "text/plain": [
       "39050000.0"
      ]
     },
     "execution_count": 21,
     "metadata": {},
     "output_type": "execute_result"
    }
   ],
   "source": [
    "up_subs= subs_75 + iqr * 1.5\n",
    "up_subs"
   ]
  },
  {
   "cell_type": "code",
   "execution_count": 22,
   "id": "1e116c6c",
   "metadata": {},
   "outputs": [
    {
     "data": {
      "text/plain": [
       "-1350000.0"
      ]
     },
     "execution_count": 22,
     "metadata": {},
     "output_type": "execute_result"
    }
   ],
   "source": [
    "low_subs= subs_25 - iqr * 1.5\n",
    "low_subs"
   ]
  },
  {
   "cell_type": "code",
   "execution_count": 23,
   "id": "a53d2f50",
   "metadata": {},
   "outputs": [
    {
     "data": {
      "text/plain": [
       "0       True\n",
       "1       True\n",
       "2       True\n",
       "4       True\n",
       "5       True\n",
       "       ...  \n",
       "989    False\n",
       "990    False\n",
       "991    False\n",
       "997    False\n",
       "999    False\n",
       "Name: Suscribers, Length: 694, dtype: bool"
      ]
     },
     "execution_count": 23,
     "metadata": {},
     "output_type": "execute_result"
    }
   ],
   "source": [
    "df['Suscribers'] > up_subs"
   ]
  },
  {
   "cell_type": "code",
   "execution_count": 24,
   "id": "2016b377",
   "metadata": {},
   "outputs": [
    {
     "data": {
      "text/plain": [
       "0      False\n",
       "1      False\n",
       "2      False\n",
       "4      False\n",
       "5      False\n",
       "       ...  \n",
       "989    False\n",
       "990    False\n",
       "991    False\n",
       "997    False\n",
       "999    False\n",
       "Name: Suscribers, Length: 694, dtype: bool"
      ]
     },
     "execution_count": 24,
     "metadata": {},
     "output_type": "execute_result"
    }
   ],
   "source": [
    "df['Suscribers'] < low_subs"
   ]
  },
  {
   "cell_type": "code",
   "execution_count": 25,
   "id": "dc064753",
   "metadata": {},
   "outputs": [],
   "source": [
    "meanValue=df[(df['Suscribers'] >= low_subs) &      (df['Suscribers'] <= up_subs)]['Suscribers'].mean()\n",
    "meanValue\n",
    "df.loc[(df['Suscribers'] < low_subs) | (df['Suscribers'] > up_subs ), 'Suscribers'] = meanValue\n"
   ]
  },
  {
   "cell_type": "markdown",
   "id": "0d1f2415",
   "metadata": {},
   "source": [
    "# After removing outlier"
   ]
  },
  {
   "cell_type": "code",
   "execution_count": 26,
   "id": "a599f124",
   "metadata": {},
   "outputs": [
    {
     "data": {
      "text/plain": [
       "0      False\n",
       "1      False\n",
       "2      False\n",
       "4      False\n",
       "5      False\n",
       "       ...  \n",
       "989    False\n",
       "990    False\n",
       "991    False\n",
       "997    False\n",
       "999    False\n",
       "Name: Suscribers, Length: 694, dtype: bool"
      ]
     },
     "execution_count": 26,
     "metadata": {},
     "output_type": "execute_result"
    }
   ],
   "source": [
    "df['Suscribers'] > up_subs"
   ]
  },
  {
   "cell_type": "markdown",
   "id": "b17b051a",
   "metadata": {},
   "source": [
    "# remove outlier Visits"
   ]
  },
  {
   "cell_type": "code",
   "execution_count": 27,
   "id": "3e34744e",
   "metadata": {},
   "outputs": [
    {
     "data": {
      "text/plain": [
       "count    6.940000e+02\n",
       "mean     1.210730e+06\n",
       "std      6.038274e+06\n",
       "min      0.000000e+00\n",
       "25%      3.692500e+04\n",
       "50%      1.587000e+05\n",
       "75%      8.339000e+05\n",
       "max      1.174000e+08\n",
       "Name: Visits, dtype: float64"
      ]
     },
     "execution_count": 27,
     "metadata": {},
     "output_type": "execute_result"
    }
   ],
   "source": [
    "df['Visits'].describe()"
   ]
  },
  {
   "cell_type": "code",
   "execution_count": 28,
   "id": "056e52d3",
   "metadata": {},
   "outputs": [
    {
     "data": {
      "text/plain": [
       "833900.0"
      ]
     },
     "execution_count": 28,
     "metadata": {},
     "output_type": "execute_result"
    }
   ],
   "source": [
    "vis_75= df['Visits'].quantile(0.75)\n",
    "vis_75"
   ]
  },
  {
   "cell_type": "code",
   "execution_count": 29,
   "id": "061bc0a8",
   "metadata": {},
   "outputs": [
    {
     "data": {
      "text/plain": [
       "36925.0"
      ]
     },
     "execution_count": 29,
     "metadata": {},
     "output_type": "execute_result"
    }
   ],
   "source": [
    "vis_25=df['Visits'].quantile(0.25)\n",
    "vis_25"
   ]
  },
  {
   "cell_type": "code",
   "execution_count": 30,
   "id": "eabf9abc",
   "metadata": {},
   "outputs": [
    {
     "data": {
      "text/plain": [
       "796975.0"
      ]
     },
     "execution_count": 30,
     "metadata": {},
     "output_type": "execute_result"
    }
   ],
   "source": [
    "iqr= vis_75 - vis_25\n",
    "iqr"
   ]
  },
  {
   "cell_type": "code",
   "execution_count": 31,
   "id": "82ed1fe8",
   "metadata": {},
   "outputs": [
    {
     "data": {
      "text/plain": [
       "1232387.5"
      ]
     },
     "execution_count": 31,
     "metadata": {},
     "output_type": "execute_result"
    }
   ],
   "source": [
    "vis_up= vis_75 + iqr * 0.5\n",
    "vis_up"
   ]
  },
  {
   "cell_type": "code",
   "execution_count": 32,
   "id": "b6017a99",
   "metadata": {},
   "outputs": [
    {
     "data": {
      "text/plain": [
       "-361562.5"
      ]
     },
     "execution_count": 32,
     "metadata": {},
     "output_type": "execute_result"
    }
   ],
   "source": [
    "vis_low= vis_25 - iqr * 0.5\n",
    "vis_low"
   ]
  },
  {
   "cell_type": "code",
   "execution_count": 33,
   "id": "4c0fff7f",
   "metadata": {},
   "outputs": [
    {
     "data": {
      "text/plain": [
       "0      False\n",
       "1       True\n",
       "2       True\n",
       "4       True\n",
       "5       True\n",
       "       ...  \n",
       "989    False\n",
       "990     True\n",
       "991    False\n",
       "997    False\n",
       "999    False\n",
       "Name: Visits, Length: 694, dtype: bool"
      ]
     },
     "execution_count": 33,
     "metadata": {},
     "output_type": "execute_result"
    }
   ],
   "source": [
    "df['Visits'] > vis_up"
   ]
  },
  {
   "cell_type": "code",
   "execution_count": 34,
   "id": "a8056dde",
   "metadata": {},
   "outputs": [
    {
     "data": {
      "text/plain": [
       "0      False\n",
       "1      False\n",
       "2      False\n",
       "4      False\n",
       "5      False\n",
       "       ...  \n",
       "989    False\n",
       "990    False\n",
       "991    False\n",
       "997    False\n",
       "999    False\n",
       "Name: Visits, Length: 694, dtype: bool"
      ]
     },
     "execution_count": 34,
     "metadata": {},
     "output_type": "execute_result"
    }
   ],
   "source": [
    "df['Visits'] < vis_low "
   ]
  },
  {
   "cell_type": "code",
   "execution_count": 35,
   "id": "5dae1e0d",
   "metadata": {},
   "outputs": [],
   "source": [
    "mean_value= df[(df['Visits'] >= vis_low) & (df['Visits'] <= vis_up)]['Visits'].mean()\n",
    "mean_value\n",
    "df.loc[(df['Visits'] < vis_low) | (df['Visits'] > vis_up) , 'Visits'] = mean_value"
   ]
  },
  {
   "cell_type": "markdown",
   "id": "76f38e6d",
   "metadata": {},
   "source": [
    "# After removing outlier"
   ]
  },
  {
   "cell_type": "code",
   "execution_count": 36,
   "id": "2b3af961",
   "metadata": {},
   "outputs": [
    {
     "data": {
      "text/plain": [
       "0      False\n",
       "1      False\n",
       "2      False\n",
       "4      False\n",
       "5      False\n",
       "       ...  \n",
       "989    False\n",
       "990    False\n",
       "991    False\n",
       "997    False\n",
       "999    False\n",
       "Name: Visits, Length: 694, dtype: bool"
      ]
     },
     "execution_count": 36,
     "metadata": {},
     "output_type": "execute_result"
    }
   ],
   "source": [
    "df['Visits'] > vis_up"
   ]
  },
  {
   "cell_type": "markdown",
   "id": "a9f10223",
   "metadata": {},
   "source": [
    "# Remove outlier Likes"
   ]
  },
  {
   "cell_type": "code",
   "execution_count": 37,
   "id": "0509e06e",
   "metadata": {},
   "outputs": [
    {
     "data": {
      "text/plain": [
       "count    6.940000e+02\n",
       "mean     5.347360e+04\n",
       "std      2.979711e+05\n",
       "min      0.000000e+00\n",
       "25%      5.685000e+02\n",
       "50%      3.550000e+03\n",
       "75%      2.377500e+04\n",
       "max      5.300000e+06\n",
       "Name: Likes, dtype: float64"
      ]
     },
     "execution_count": 37,
     "metadata": {},
     "output_type": "execute_result"
    }
   ],
   "source": [
    "df['Likes'].describe()"
   ]
  },
  {
   "cell_type": "code",
   "execution_count": 38,
   "id": "09eb9040",
   "metadata": {},
   "outputs": [
    {
     "data": {
      "text/plain": [
       "23775.0"
      ]
     },
     "execution_count": 38,
     "metadata": {},
     "output_type": "execute_result"
    }
   ],
   "source": [
    "lik_75= df['Likes'].quantile(0.75)\n",
    "lik_75"
   ]
  },
  {
   "cell_type": "code",
   "execution_count": 39,
   "id": "3bffdb0c",
   "metadata": {},
   "outputs": [
    {
     "data": {
      "text/plain": [
       "568.5"
      ]
     },
     "execution_count": 39,
     "metadata": {},
     "output_type": "execute_result"
    }
   ],
   "source": [
    "lik_25= df['Likes'].quantile(0.25)\n",
    "lik_25"
   ]
  },
  {
   "cell_type": "code",
   "execution_count": 40,
   "id": "1abe23d7",
   "metadata": {},
   "outputs": [
    {
     "data": {
      "text/plain": [
       "23206.5"
      ]
     },
     "execution_count": 40,
     "metadata": {},
     "output_type": "execute_result"
    }
   ],
   "source": [
    "iqr= lik_75 - lik_25\n",
    "iqr"
   ]
  },
  {
   "cell_type": "code",
   "execution_count": 41,
   "id": "a62f9ee2",
   "metadata": {},
   "outputs": [
    {
     "data": {
      "text/plain": [
       "35378.25"
      ]
     },
     "execution_count": 41,
     "metadata": {},
     "output_type": "execute_result"
    }
   ],
   "source": [
    "lik_up= lik_75 + iqr * 0.5\n",
    "lik_up"
   ]
  },
  {
   "cell_type": "code",
   "execution_count": 42,
   "id": "96732cb7",
   "metadata": {},
   "outputs": [
    {
     "data": {
      "text/plain": [
       "-11034.75"
      ]
     },
     "execution_count": 42,
     "metadata": {},
     "output_type": "execute_result"
    }
   ],
   "source": [
    "lik_low= lik_25 - iqr * 0.5\n",
    "lik_low"
   ]
  },
  {
   "cell_type": "code",
   "execution_count": 43,
   "id": "496cfbec",
   "metadata": {},
   "outputs": [
    {
     "data": {
      "text/plain": [
       "0      False\n",
       "1       True\n",
       "2      False\n",
       "4      False\n",
       "5       True\n",
       "       ...  \n",
       "989    False\n",
       "990     True\n",
       "991    False\n",
       "997    False\n",
       "999    False\n",
       "Name: Likes, Length: 694, dtype: bool"
      ]
     },
     "execution_count": 43,
     "metadata": {},
     "output_type": "execute_result"
    }
   ],
   "source": [
    "df['Likes'] > lik_up"
   ]
  },
  {
   "cell_type": "code",
   "execution_count": 44,
   "id": "0be99fae",
   "metadata": {},
   "outputs": [
    {
     "data": {
      "text/plain": [
       "0      False\n",
       "1      False\n",
       "2      False\n",
       "4      False\n",
       "5      False\n",
       "       ...  \n",
       "989    False\n",
       "990    False\n",
       "991    False\n",
       "997    False\n",
       "999    False\n",
       "Name: Likes, Length: 694, dtype: bool"
      ]
     },
     "execution_count": 44,
     "metadata": {},
     "output_type": "execute_result"
    }
   ],
   "source": [
    "df['Likes'] < lik_low"
   ]
  },
  {
   "cell_type": "code",
   "execution_count": 45,
   "id": "2eab5a02",
   "metadata": {},
   "outputs": [],
   "source": [
    "mean_value= df[(df['Likes'] >= lik_low) & (df['Likes'] <= lik_up)]['Likes'].mean()\n",
    "mean_value\n",
    "df.loc[(df['Likes'] < lik_low) | (df['Likes'] > lik_up), 'Likes']=mean_value"
   ]
  },
  {
   "cell_type": "markdown",
   "id": "1b8703f9",
   "metadata": {},
   "source": [
    "# After removal outlier"
   ]
  },
  {
   "cell_type": "code",
   "execution_count": 46,
   "id": "1c1776ce",
   "metadata": {},
   "outputs": [
    {
     "data": {
      "text/plain": [
       "0      False\n",
       "1      False\n",
       "2      False\n",
       "4      False\n",
       "5      False\n",
       "       ...  \n",
       "989    False\n",
       "990    False\n",
       "991    False\n",
       "997    False\n",
       "999    False\n",
       "Name: Likes, Length: 694, dtype: bool"
      ]
     },
     "execution_count": 46,
     "metadata": {},
     "output_type": "execute_result"
    }
   ],
   "source": [
    "df['Likes'] > lik_up"
   ]
  },
  {
   "cell_type": "markdown",
   "id": "39ad7703",
   "metadata": {},
   "source": [
    "# Conclusion:"
   ]
  },
  {
   "cell_type": "code",
   "execution_count": 69,
   "id": "f54805ab",
   "metadata": {},
   "outputs": [],
   "source": [
    "This dataset has 1000 rows and 9 columns.\n",
    "It has 306 null values and drop it by dropna() function.\n",
    "There is no duplication of data.\n",
    "Columns Subscriber , visits and likes has outlier. These are removed by IQR method."
   ]
  },
  {
   "cell_type": "markdown",
   "id": "b28320c8",
   "metadata": {},
   "source": [
    "# Trend Analysis:\n",
    "- Identify trends among the top YouTube streamers. Which categories are the most popular?\n",
    "- Is there a correlation between the number of subscribers and the number of likes or comments?"
   ]
  },
  {
   "cell_type": "code",
   "execution_count": null,
   "id": "09f14fce",
   "metadata": {},
   "outputs": [],
   "source": []
  },
  {
   "cell_type": "code",
   "execution_count": 48,
   "id": "8fd50897",
   "metadata": {},
   "outputs": [
    {
     "name": "stdout",
     "output_type": "stream",
     "text": [
      "The most popular category is: Música y baile\n"
     ]
    }
   ],
   "source": [
    "# Use value_counts() to get frequencies of each category\n",
    "category_counts = df['Categories'].value_counts()\n",
    "\n",
    "# Use idxmax() to find the category with the maximum count\n",
    "most_popular_category = category_counts.idxmax()\n",
    "\n",
    "print(f\"The most popular category is: {most_popular_category}\")"
   ]
  },
  {
   "cell_type": "markdown",
   "id": "c6957551",
   "metadata": {},
   "source": [
    "# Correlation between Subscribers, comments and likes "
   ]
  },
  {
   "cell_type": "code",
   "execution_count": 49,
   "id": "341dd3ad",
   "metadata": {},
   "outputs": [
    {
     "name": "stdout",
     "output_type": "stream",
     "text": [
      "Correlation between Subscribers and Likes: -0.0009760580626322037\n",
      "Correlation between Subscribers and Comments: 0.052760939609958105\n"
     ]
    }
   ],
   "source": [
    "# Task 2: Correlation between Subscribers and Likes/Comments\n",
    "correlation_likes = np.corrcoef(df['Suscribers'], df['Likes'])[0, 1]\n",
    "correlation_comments = np.corrcoef(df['Suscribers'], df['Comments'])[0, 1]\n",
    "print(f'Correlation between Subscribers and Likes: {correlation_likes}')\n",
    "print(f'Correlation between Subscribers and Comments: {correlation_comments}')\n"
   ]
  },
  {
   "cell_type": "code",
   "execution_count": 50,
   "id": "69ef458f",
   "metadata": {},
   "outputs": [
    {
     "data": {
      "image/png": "[encoded data removed]",
      "text/plain": [
       "<Figure size 640x480 with 1 Axes>"
      ]
     },
     "metadata": {},
     "output_type": "display_data"
    }
   ],
   "source": [
    "#Visualization of correlation\n",
    "plt.scatter(df['Suscribers'],df['Likes'],alpha=0.5, label='Likes',color='red')\n",
    "plt.scatter(df['Suscribers'],df['Comments'],alpha=1, label='Comments',color='green')\n",
    "plt.xlabel('total comments/total likes')\n",
    "plt.ylabel('Number of subscriber')\n",
    "plt.title('Correlation between subscriber and commwnts/likes')\n",
    "plt.show()"
   ]
  },
  {
   "cell_type": "markdown",
   "id": "5a1f92fb",
   "metadata": {},
   "source": [
    "#   Audience Study"
   ]
  },
  {
   "cell_type": "code",
   "execution_count": 51,
   "id": "7369213e",
   "metadata": {},
   "outputs": [
    {
     "data": {
      "text/html": [
       "<div>\n",
       "<style scoped>\n",
       "    .dataframe tbody tr th:only-of-type {\n",
       "        vertical-align: middle;\n",
       "    }\n",
       "\n",
       "    .dataframe tbody tr th {\n",
       "        vertical-align: top;\n",
       "    }\n",
       "\n",
       "    .dataframe thead th {\n",
       "        text-align: right;\n",
       "    }\n",
       "</style>\n",
       "<table border=\"1\" class=\"dataframe\">\n",
       "  <thead>\n",
       "    <tr style=\"text-align: right;\">\n",
       "      <th></th>\n",
       "      <th>Country</th>\n",
       "      <th>Visits</th>\n",
       "    </tr>\n",
       "  </thead>\n",
       "  <tbody>\n",
       "    <tr>\n",
       "      <th>0</th>\n",
       "      <td>Arabia Saudita</td>\n",
       "      <td>1598690.0</td>\n",
       "    </tr>\n",
       "    <tr>\n",
       "      <th>1</th>\n",
       "      <td>Argelia</td>\n",
       "      <td>333500.0</td>\n",
       "    </tr>\n",
       "    <tr>\n",
       "      <th>2</th>\n",
       "      <td>Argentina</td>\n",
       "      <td>1119780.0</td>\n",
       "    </tr>\n",
       "    <tr>\n",
       "      <th>3</th>\n",
       "      <td>Bangladesh</td>\n",
       "      <td>100700.0</td>\n",
       "    </tr>\n",
       "    <tr>\n",
       "      <th>4</th>\n",
       "      <td>Brasil</td>\n",
       "      <td>12740360.0</td>\n",
       "    </tr>\n",
       "    <tr>\n",
       "      <th>5</th>\n",
       "      <td>Colombia</td>\n",
       "      <td>2404780.0</td>\n",
       "    </tr>\n",
       "    <tr>\n",
       "      <th>6</th>\n",
       "      <td>Egipto</td>\n",
       "      <td>305400.0</td>\n",
       "    </tr>\n",
       "    <tr>\n",
       "      <th>7</th>\n",
       "      <td>España</td>\n",
       "      <td>608490.0</td>\n",
       "    </tr>\n",
       "    <tr>\n",
       "      <th>8</th>\n",
       "      <td>Estados Unidos</td>\n",
       "      <td>50917360.0</td>\n",
       "    </tr>\n",
       "    <tr>\n",
       "      <th>9</th>\n",
       "      <td>Filipinas</td>\n",
       "      <td>1987170.0</td>\n",
       "    </tr>\n",
       "    <tr>\n",
       "      <th>10</th>\n",
       "      <td>Francia</td>\n",
       "      <td>232190.0</td>\n",
       "    </tr>\n",
       "    <tr>\n",
       "      <th>11</th>\n",
       "      <td>India</td>\n",
       "      <td>15158070.0</td>\n",
       "    </tr>\n",
       "    <tr>\n",
       "      <th>12</th>\n",
       "      <td>Indonesia</td>\n",
       "      <td>6229470.0</td>\n",
       "    </tr>\n",
       "    <tr>\n",
       "      <th>13</th>\n",
       "      <td>Iraq</td>\n",
       "      <td>327790.0</td>\n",
       "    </tr>\n",
       "    <tr>\n",
       "      <th>14</th>\n",
       "      <td>Japón</td>\n",
       "      <td>224190.0</td>\n",
       "    </tr>\n",
       "    <tr>\n",
       "      <th>15</th>\n",
       "      <td>Jordania</td>\n",
       "      <td>267600.0</td>\n",
       "    </tr>\n",
       "    <tr>\n",
       "      <th>16</th>\n",
       "      <td>Marruecos</td>\n",
       "      <td>12000.0</td>\n",
       "    </tr>\n",
       "    <tr>\n",
       "      <th>17</th>\n",
       "      <td>México</td>\n",
       "      <td>13282710.0</td>\n",
       "    </tr>\n",
       "    <tr>\n",
       "      <th>18</th>\n",
       "      <td>Pakistán</td>\n",
       "      <td>393790.0</td>\n",
       "    </tr>\n",
       "    <tr>\n",
       "      <th>19</th>\n",
       "      <td>Perú</td>\n",
       "      <td>443590.0</td>\n",
       "    </tr>\n",
       "    <tr>\n",
       "      <th>20</th>\n",
       "      <td>Reino Unido</td>\n",
       "      <td>274890.0</td>\n",
       "    </tr>\n",
       "    <tr>\n",
       "      <th>21</th>\n",
       "      <td>Rusia</td>\n",
       "      <td>6414070.0</td>\n",
       "    </tr>\n",
       "    <tr>\n",
       "      <th>22</th>\n",
       "      <td>Singapur</td>\n",
       "      <td>26400.0</td>\n",
       "    </tr>\n",
       "    <tr>\n",
       "      <th>23</th>\n",
       "      <td>Somalia</td>\n",
       "      <td>224190.0</td>\n",
       "    </tr>\n",
       "    <tr>\n",
       "      <th>24</th>\n",
       "      <td>Tailandia</td>\n",
       "      <td>1177990.0</td>\n",
       "    </tr>\n",
       "    <tr>\n",
       "      <th>25</th>\n",
       "      <td>Turquía</td>\n",
       "      <td>429090.0</td>\n",
       "    </tr>\n",
       "    <tr>\n",
       "      <th>26</th>\n",
       "      <td>Unknown</td>\n",
       "      <td>38353600.0</td>\n",
       "    </tr>\n",
       "  </tbody>\n",
       "</table>\n",
       "</div>"
      ],
      "text/plain": [
       "           Country      Visits\n",
       "0   Arabia Saudita   1598690.0\n",
       "1          Argelia    333500.0\n",
       "2        Argentina   1119780.0\n",
       "3       Bangladesh    100700.0\n",
       "4           Brasil  12740360.0\n",
       "5         Colombia   2404780.0\n",
       "6           Egipto    305400.0\n",
       "7           España    608490.0\n",
       "8   Estados Unidos  50917360.0\n",
       "9        Filipinas   1987170.0\n",
       "10         Francia    232190.0\n",
       "11           India  15158070.0\n",
       "12       Indonesia   6229470.0\n",
       "13            Iraq    327790.0\n",
       "14           Japón    224190.0\n",
       "15        Jordania    267600.0\n",
       "16       Marruecos     12000.0\n",
       "17          México  13282710.0\n",
       "18        Pakistán    393790.0\n",
       "19            Perú    443590.0\n",
       "20     Reino Unido    274890.0\n",
       "21           Rusia   6414070.0\n",
       "22        Singapur     26400.0\n",
       "23         Somalia    224190.0\n",
       "24       Tailandia   1177990.0\n",
       "25         Turquía    429090.0\n",
       "26         Unknown  38353600.0"
      ]
     },
     "execution_count": 51,
     "metadata": {},
     "output_type": "execute_result"
    }
   ],
   "source": [
    "country_distribution= df.groupby('Country')['Visits'].sum().reset_index()\n",
    "country_distribution"
   ]
  },
  {
   "cell_type": "code",
   "execution_count": 52,
   "id": "94583774",
   "metadata": {},
   "outputs": [
    {
     "data": {
      "text/html": [
       "<div>\n",
       "<style scoped>\n",
       "    .dataframe tbody tr th:only-of-type {\n",
       "        vertical-align: middle;\n",
       "    }\n",
       "\n",
       "    .dataframe tbody tr th {\n",
       "        vertical-align: top;\n",
       "    }\n",
       "\n",
       "    .dataframe thead th {\n",
       "        text-align: right;\n",
       "    }\n",
       "</style>\n",
       "<table border=\"1\" class=\"dataframe\">\n",
       "  <thead>\n",
       "    <tr style=\"text-align: right;\">\n",
       "      <th>Categories</th>\n",
       "      <th>ASMR</th>\n",
       "      <th>ASMR, Comida y bebida</th>\n",
       "      <th>Animación</th>\n",
       "      <th>Animación, Humor</th>\n",
       "      <th>Animación, Humor, Juguetes</th>\n",
       "      <th>Animación, Juguetes</th>\n",
       "      <th>Animación, Videojuegos</th>\n",
       "      <th>Animales y mascotas</th>\n",
       "      <th>Belleza, Moda</th>\n",
       "      <th>Ciencia y tecnología</th>\n",
       "      <th>...</th>\n",
       "      <th>Películas</th>\n",
       "      <th>Películas, Animación</th>\n",
       "      <th>Películas, Humor</th>\n",
       "      <th>Películas, Juguetes</th>\n",
       "      <th>Películas, Videojuegos</th>\n",
       "      <th>Viajes, Espectáculos</th>\n",
       "      <th>Videojuegos</th>\n",
       "      <th>Videojuegos, Humor</th>\n",
       "      <th>Videojuegos, Juguetes</th>\n",
       "      <th>Vlogs diarios</th>\n",
       "    </tr>\n",
       "    <tr>\n",
       "      <th>Country</th>\n",
       "      <th></th>\n",
       "      <th></th>\n",
       "      <th></th>\n",
       "      <th></th>\n",
       "      <th></th>\n",
       "      <th></th>\n",
       "      <th></th>\n",
       "      <th></th>\n",
       "      <th></th>\n",
       "      <th></th>\n",
       "      <th></th>\n",
       "      <th></th>\n",
       "      <th></th>\n",
       "      <th></th>\n",
       "      <th></th>\n",
       "      <th></th>\n",
       "      <th></th>\n",
       "      <th></th>\n",
       "      <th></th>\n",
       "      <th></th>\n",
       "      <th></th>\n",
       "    </tr>\n",
       "  </thead>\n",
       "  <tbody>\n",
       "    <tr>\n",
       "      <th>Arabia Saudita</th>\n",
       "      <td>0.0</td>\n",
       "      <td>0.0</td>\n",
       "      <td>0.0</td>\n",
       "      <td>0.0</td>\n",
       "      <td>0.0</td>\n",
       "      <td>0.0</td>\n",
       "      <td>1200000.0</td>\n",
       "      <td>0.0</td>\n",
       "      <td>0.0</td>\n",
       "      <td>0.0</td>\n",
       "      <td>...</td>\n",
       "      <td>0.0</td>\n",
       "      <td>0.0</td>\n",
       "      <td>0.0</td>\n",
       "      <td>0.0</td>\n",
       "      <td>0.0</td>\n",
       "      <td>0.0</td>\n",
       "      <td>0.0</td>\n",
       "      <td>0.0</td>\n",
       "      <td>0.0</td>\n",
       "      <td>0.0</td>\n",
       "    </tr>\n",
       "    <tr>\n",
       "      <th>Argelia</th>\n",
       "      <td>0.0</td>\n",
       "      <td>0.0</td>\n",
       "      <td>0.0</td>\n",
       "      <td>0.0</td>\n",
       "      <td>0.0</td>\n",
       "      <td>0.0</td>\n",
       "      <td>0.0</td>\n",
       "      <td>0.0</td>\n",
       "      <td>0.0</td>\n",
       "      <td>0.0</td>\n",
       "      <td>...</td>\n",
       "      <td>0.0</td>\n",
       "      <td>0.0</td>\n",
       "      <td>0.0</td>\n",
       "      <td>0.0</td>\n",
       "      <td>0.0</td>\n",
       "      <td>0.0</td>\n",
       "      <td>0.0</td>\n",
       "      <td>0.0</td>\n",
       "      <td>0.0</td>\n",
       "      <td>0.0</td>\n",
       "    </tr>\n",
       "    <tr>\n",
       "      <th>Argentina</th>\n",
       "      <td>0.0</td>\n",
       "      <td>0.0</td>\n",
       "      <td>224190.0</td>\n",
       "      <td>0.0</td>\n",
       "      <td>0.0</td>\n",
       "      <td>0.0</td>\n",
       "      <td>0.0</td>\n",
       "      <td>0.0</td>\n",
       "      <td>0.0</td>\n",
       "      <td>0.0</td>\n",
       "      <td>...</td>\n",
       "      <td>76600.0</td>\n",
       "      <td>594800.0</td>\n",
       "      <td>224190.0</td>\n",
       "      <td>0.0</td>\n",
       "      <td>0.0</td>\n",
       "      <td>0.0</td>\n",
       "      <td>0.0</td>\n",
       "      <td>0.0</td>\n",
       "      <td>0.0</td>\n",
       "      <td>0.0</td>\n",
       "    </tr>\n",
       "    <tr>\n",
       "      <th>Bangladesh</th>\n",
       "      <td>0.0</td>\n",
       "      <td>0.0</td>\n",
       "      <td>0.0</td>\n",
       "      <td>0.0</td>\n",
       "      <td>0.0</td>\n",
       "      <td>0.0</td>\n",
       "      <td>0.0</td>\n",
       "      <td>0.0</td>\n",
       "      <td>0.0</td>\n",
       "      <td>0.0</td>\n",
       "      <td>...</td>\n",
       "      <td>0.0</td>\n",
       "      <td>0.0</td>\n",
       "      <td>0.0</td>\n",
       "      <td>0.0</td>\n",
       "      <td>0.0</td>\n",
       "      <td>89500.0</td>\n",
       "      <td>0.0</td>\n",
       "      <td>0.0</td>\n",
       "      <td>0.0</td>\n",
       "      <td>7400.0</td>\n",
       "    </tr>\n",
       "    <tr>\n",
       "      <th>Brasil</th>\n",
       "      <td>0.0</td>\n",
       "      <td>0.0</td>\n",
       "      <td>883900.0</td>\n",
       "      <td>533100.0</td>\n",
       "      <td>0.0</td>\n",
       "      <td>0.0</td>\n",
       "      <td>689990.0</td>\n",
       "      <td>0.0</td>\n",
       "      <td>0.0</td>\n",
       "      <td>404100.0</td>\n",
       "      <td>...</td>\n",
       "      <td>637590.0</td>\n",
       "      <td>3859900.0</td>\n",
       "      <td>1031500.0</td>\n",
       "      <td>0.0</td>\n",
       "      <td>20100.0</td>\n",
       "      <td>0.0</td>\n",
       "      <td>0.0</td>\n",
       "      <td>0.0</td>\n",
       "      <td>0.0</td>\n",
       "      <td>765300.0</td>\n",
       "    </tr>\n",
       "    <tr>\n",
       "      <th>Colombia</th>\n",
       "      <td>0.0</td>\n",
       "      <td>0.0</td>\n",
       "      <td>0.0</td>\n",
       "      <td>432490.0</td>\n",
       "      <td>0.0</td>\n",
       "      <td>0.0</td>\n",
       "      <td>16900.0</td>\n",
       "      <td>0.0</td>\n",
       "      <td>0.0</td>\n",
       "      <td>0.0</td>\n",
       "      <td>...</td>\n",
       "      <td>0.0</td>\n",
       "      <td>0.0</td>\n",
       "      <td>0.0</td>\n",
       "      <td>0.0</td>\n",
       "      <td>0.0</td>\n",
       "      <td>0.0</td>\n",
       "      <td>0.0</td>\n",
       "      <td>0.0</td>\n",
       "      <td>0.0</td>\n",
       "      <td>943290.0</td>\n",
       "    </tr>\n",
       "    <tr>\n",
       "      <th>Egipto</th>\n",
       "      <td>0.0</td>\n",
       "      <td>0.0</td>\n",
       "      <td>0.0</td>\n",
       "      <td>0.0</td>\n",
       "      <td>0.0</td>\n",
       "      <td>0.0</td>\n",
       "      <td>0.0</td>\n",
       "      <td>0.0</td>\n",
       "      <td>0.0</td>\n",
       "      <td>0.0</td>\n",
       "      <td>...</td>\n",
       "      <td>32500.0</td>\n",
       "      <td>0.0</td>\n",
       "      <td>0.0</td>\n",
       "      <td>0.0</td>\n",
       "      <td>0.0</td>\n",
       "      <td>0.0</td>\n",
       "      <td>0.0</td>\n",
       "      <td>0.0</td>\n",
       "      <td>0.0</td>\n",
       "      <td>0.0</td>\n",
       "    </tr>\n",
       "    <tr>\n",
       "      <th>España</th>\n",
       "      <td>0.0</td>\n",
       "      <td>0.0</td>\n",
       "      <td>0.0</td>\n",
       "      <td>0.0</td>\n",
       "      <td>0.0</td>\n",
       "      <td>0.0</td>\n",
       "      <td>0.0</td>\n",
       "      <td>0.0</td>\n",
       "      <td>0.0</td>\n",
       "      <td>0.0</td>\n",
       "      <td>...</td>\n",
       "      <td>0.0</td>\n",
       "      <td>238400.0</td>\n",
       "      <td>0.0</td>\n",
       "      <td>0.0</td>\n",
       "      <td>145900.0</td>\n",
       "      <td>0.0</td>\n",
       "      <td>224190.0</td>\n",
       "      <td>0.0</td>\n",
       "      <td>0.0</td>\n",
       "      <td>0.0</td>\n",
       "    </tr>\n",
       "    <tr>\n",
       "      <th>Estados Unidos</th>\n",
       "      <td>368500.0</td>\n",
       "      <td>557500.0</td>\n",
       "      <td>1112890.0</td>\n",
       "      <td>4420310.0</td>\n",
       "      <td>0.0</td>\n",
       "      <td>28200.0</td>\n",
       "      <td>5539220.0</td>\n",
       "      <td>687090.0</td>\n",
       "      <td>964500.0</td>\n",
       "      <td>2769070.0</td>\n",
       "      <td>...</td>\n",
       "      <td>938370.0</td>\n",
       "      <td>3116690.0</td>\n",
       "      <td>3262170.0</td>\n",
       "      <td>0.0</td>\n",
       "      <td>1050990.0</td>\n",
       "      <td>0.0</td>\n",
       "      <td>1855570.0</td>\n",
       "      <td>4099980.0</td>\n",
       "      <td>0.0</td>\n",
       "      <td>2291780.0</td>\n",
       "    </tr>\n",
       "    <tr>\n",
       "      <th>Filipinas</th>\n",
       "      <td>0.0</td>\n",
       "      <td>0.0</td>\n",
       "      <td>0.0</td>\n",
       "      <td>0.0</td>\n",
       "      <td>0.0</td>\n",
       "      <td>0.0</td>\n",
       "      <td>0.0</td>\n",
       "      <td>0.0</td>\n",
       "      <td>0.0</td>\n",
       "      <td>0.0</td>\n",
       "      <td>...</td>\n",
       "      <td>0.0</td>\n",
       "      <td>0.0</td>\n",
       "      <td>448380.0</td>\n",
       "      <td>0.0</td>\n",
       "      <td>0.0</td>\n",
       "      <td>0.0</td>\n",
       "      <td>0.0</td>\n",
       "      <td>0.0</td>\n",
       "      <td>0.0</td>\n",
       "      <td>0.0</td>\n",
       "    </tr>\n",
       "    <tr>\n",
       "      <th>Francia</th>\n",
       "      <td>0.0</td>\n",
       "      <td>0.0</td>\n",
       "      <td>0.0</td>\n",
       "      <td>0.0</td>\n",
       "      <td>8000.0</td>\n",
       "      <td>0.0</td>\n",
       "      <td>0.0</td>\n",
       "      <td>0.0</td>\n",
       "      <td>0.0</td>\n",
       "      <td>0.0</td>\n",
       "      <td>...</td>\n",
       "      <td>0.0</td>\n",
       "      <td>0.0</td>\n",
       "      <td>0.0</td>\n",
       "      <td>0.0</td>\n",
       "      <td>0.0</td>\n",
       "      <td>0.0</td>\n",
       "      <td>0.0</td>\n",
       "      <td>0.0</td>\n",
       "      <td>0.0</td>\n",
       "      <td>224190.0</td>\n",
       "    </tr>\n",
       "    <tr>\n",
       "      <th>India</th>\n",
       "      <td>0.0</td>\n",
       "      <td>0.0</td>\n",
       "      <td>0.0</td>\n",
       "      <td>0.0</td>\n",
       "      <td>0.0</td>\n",
       "      <td>0.0</td>\n",
       "      <td>839300.0</td>\n",
       "      <td>0.0</td>\n",
       "      <td>0.0</td>\n",
       "      <td>0.0</td>\n",
       "      <td>...</td>\n",
       "      <td>223100.0</td>\n",
       "      <td>379590.0</td>\n",
       "      <td>1506590.0</td>\n",
       "      <td>0.0</td>\n",
       "      <td>224190.0</td>\n",
       "      <td>0.0</td>\n",
       "      <td>0.0</td>\n",
       "      <td>264800.0</td>\n",
       "      <td>0.0</td>\n",
       "      <td>4295260.0</td>\n",
       "    </tr>\n",
       "    <tr>\n",
       "      <th>Indonesia</th>\n",
       "      <td>0.0</td>\n",
       "      <td>0.0</td>\n",
       "      <td>0.0</td>\n",
       "      <td>0.0</td>\n",
       "      <td>0.0</td>\n",
       "      <td>0.0</td>\n",
       "      <td>80900.0</td>\n",
       "      <td>0.0</td>\n",
       "      <td>0.0</td>\n",
       "      <td>56400.0</td>\n",
       "      <td>...</td>\n",
       "      <td>857500.0</td>\n",
       "      <td>2021390.0</td>\n",
       "      <td>397800.0</td>\n",
       "      <td>0.0</td>\n",
       "      <td>0.0</td>\n",
       "      <td>0.0</td>\n",
       "      <td>748400.0</td>\n",
       "      <td>0.0</td>\n",
       "      <td>0.0</td>\n",
       "      <td>131600.0</td>\n",
       "    </tr>\n",
       "    <tr>\n",
       "      <th>Iraq</th>\n",
       "      <td>0.0</td>\n",
       "      <td>0.0</td>\n",
       "      <td>0.0</td>\n",
       "      <td>0.0</td>\n",
       "      <td>0.0</td>\n",
       "      <td>0.0</td>\n",
       "      <td>224190.0</td>\n",
       "      <td>0.0</td>\n",
       "      <td>0.0</td>\n",
       "      <td>0.0</td>\n",
       "      <td>...</td>\n",
       "      <td>0.0</td>\n",
       "      <td>0.0</td>\n",
       "      <td>0.0</td>\n",
       "      <td>0.0</td>\n",
       "      <td>0.0</td>\n",
       "      <td>0.0</td>\n",
       "      <td>0.0</td>\n",
       "      <td>0.0</td>\n",
       "      <td>0.0</td>\n",
       "      <td>0.0</td>\n",
       "    </tr>\n",
       "    <tr>\n",
       "      <th>Japón</th>\n",
       "      <td>0.0</td>\n",
       "      <td>0.0</td>\n",
       "      <td>0.0</td>\n",
       "      <td>0.0</td>\n",
       "      <td>0.0</td>\n",
       "      <td>0.0</td>\n",
       "      <td>0.0</td>\n",
       "      <td>0.0</td>\n",
       "      <td>0.0</td>\n",
       "      <td>0.0</td>\n",
       "      <td>...</td>\n",
       "      <td>0.0</td>\n",
       "      <td>0.0</td>\n",
       "      <td>0.0</td>\n",
       "      <td>0.0</td>\n",
       "      <td>0.0</td>\n",
       "      <td>0.0</td>\n",
       "      <td>0.0</td>\n",
       "      <td>0.0</td>\n",
       "      <td>0.0</td>\n",
       "      <td>0.0</td>\n",
       "    </tr>\n",
       "    <tr>\n",
       "      <th>Jordania</th>\n",
       "      <td>0.0</td>\n",
       "      <td>0.0</td>\n",
       "      <td>0.0</td>\n",
       "      <td>0.0</td>\n",
       "      <td>0.0</td>\n",
       "      <td>0.0</td>\n",
       "      <td>0.0</td>\n",
       "      <td>0.0</td>\n",
       "      <td>0.0</td>\n",
       "      <td>0.0</td>\n",
       "      <td>...</td>\n",
       "      <td>0.0</td>\n",
       "      <td>0.0</td>\n",
       "      <td>0.0</td>\n",
       "      <td>0.0</td>\n",
       "      <td>0.0</td>\n",
       "      <td>0.0</td>\n",
       "      <td>0.0</td>\n",
       "      <td>0.0</td>\n",
       "      <td>0.0</td>\n",
       "      <td>0.0</td>\n",
       "    </tr>\n",
       "    <tr>\n",
       "      <th>Marruecos</th>\n",
       "      <td>0.0</td>\n",
       "      <td>0.0</td>\n",
       "      <td>0.0</td>\n",
       "      <td>0.0</td>\n",
       "      <td>0.0</td>\n",
       "      <td>0.0</td>\n",
       "      <td>0.0</td>\n",
       "      <td>0.0</td>\n",
       "      <td>0.0</td>\n",
       "      <td>0.0</td>\n",
       "      <td>...</td>\n",
       "      <td>0.0</td>\n",
       "      <td>0.0</td>\n",
       "      <td>0.0</td>\n",
       "      <td>0.0</td>\n",
       "      <td>0.0</td>\n",
       "      <td>0.0</td>\n",
       "      <td>0.0</td>\n",
       "      <td>0.0</td>\n",
       "      <td>0.0</td>\n",
       "      <td>0.0</td>\n",
       "    </tr>\n",
       "    <tr>\n",
       "      <th>México</th>\n",
       "      <td>0.0</td>\n",
       "      <td>0.0</td>\n",
       "      <td>923690.0</td>\n",
       "      <td>448380.0</td>\n",
       "      <td>0.0</td>\n",
       "      <td>0.0</td>\n",
       "      <td>2461500.0</td>\n",
       "      <td>0.0</td>\n",
       "      <td>0.0</td>\n",
       "      <td>1100000.0</td>\n",
       "      <td>...</td>\n",
       "      <td>990200.0</td>\n",
       "      <td>4809780.0</td>\n",
       "      <td>560000.0</td>\n",
       "      <td>0.0</td>\n",
       "      <td>519800.0</td>\n",
       "      <td>0.0</td>\n",
       "      <td>0.0</td>\n",
       "      <td>0.0</td>\n",
       "      <td>0.0</td>\n",
       "      <td>0.0</td>\n",
       "    </tr>\n",
       "    <tr>\n",
       "      <th>Pakistán</th>\n",
       "      <td>0.0</td>\n",
       "      <td>0.0</td>\n",
       "      <td>0.0</td>\n",
       "      <td>0.0</td>\n",
       "      <td>0.0</td>\n",
       "      <td>0.0</td>\n",
       "      <td>0.0</td>\n",
       "      <td>0.0</td>\n",
       "      <td>0.0</td>\n",
       "      <td>0.0</td>\n",
       "      <td>...</td>\n",
       "      <td>0.0</td>\n",
       "      <td>11000.0</td>\n",
       "      <td>0.0</td>\n",
       "      <td>0.0</td>\n",
       "      <td>0.0</td>\n",
       "      <td>0.0</td>\n",
       "      <td>0.0</td>\n",
       "      <td>0.0</td>\n",
       "      <td>0.0</td>\n",
       "      <td>30600.0</td>\n",
       "    </tr>\n",
       "    <tr>\n",
       "      <th>Perú</th>\n",
       "      <td>0.0</td>\n",
       "      <td>0.0</td>\n",
       "      <td>0.0</td>\n",
       "      <td>0.0</td>\n",
       "      <td>0.0</td>\n",
       "      <td>0.0</td>\n",
       "      <td>0.0</td>\n",
       "      <td>0.0</td>\n",
       "      <td>0.0</td>\n",
       "      <td>0.0</td>\n",
       "      <td>...</td>\n",
       "      <td>0.0</td>\n",
       "      <td>0.0</td>\n",
       "      <td>0.0</td>\n",
       "      <td>0.0</td>\n",
       "      <td>0.0</td>\n",
       "      <td>0.0</td>\n",
       "      <td>0.0</td>\n",
       "      <td>0.0</td>\n",
       "      <td>0.0</td>\n",
       "      <td>0.0</td>\n",
       "    </tr>\n",
       "    <tr>\n",
       "      <th>Reino Unido</th>\n",
       "      <td>0.0</td>\n",
       "      <td>0.0</td>\n",
       "      <td>0.0</td>\n",
       "      <td>0.0</td>\n",
       "      <td>0.0</td>\n",
       "      <td>0.0</td>\n",
       "      <td>0.0</td>\n",
       "      <td>0.0</td>\n",
       "      <td>0.0</td>\n",
       "      <td>0.0</td>\n",
       "      <td>...</td>\n",
       "      <td>0.0</td>\n",
       "      <td>9900.0</td>\n",
       "      <td>0.0</td>\n",
       "      <td>0.0</td>\n",
       "      <td>0.0</td>\n",
       "      <td>0.0</td>\n",
       "      <td>0.0</td>\n",
       "      <td>224190.0</td>\n",
       "      <td>0.0</td>\n",
       "      <td>0.0</td>\n",
       "    </tr>\n",
       "    <tr>\n",
       "      <th>Rusia</th>\n",
       "      <td>0.0</td>\n",
       "      <td>0.0</td>\n",
       "      <td>17200.0</td>\n",
       "      <td>224190.0</td>\n",
       "      <td>0.0</td>\n",
       "      <td>0.0</td>\n",
       "      <td>616090.0</td>\n",
       "      <td>0.0</td>\n",
       "      <td>0.0</td>\n",
       "      <td>0.0</td>\n",
       "      <td>...</td>\n",
       "      <td>351000.0</td>\n",
       "      <td>789700.0</td>\n",
       "      <td>0.0</td>\n",
       "      <td>0.0</td>\n",
       "      <td>125600.0</td>\n",
       "      <td>0.0</td>\n",
       "      <td>3169340.0</td>\n",
       "      <td>224190.0</td>\n",
       "      <td>224190.0</td>\n",
       "      <td>0.0</td>\n",
       "    </tr>\n",
       "    <tr>\n",
       "      <th>Singapur</th>\n",
       "      <td>0.0</td>\n",
       "      <td>0.0</td>\n",
       "      <td>26400.0</td>\n",
       "      <td>0.0</td>\n",
       "      <td>0.0</td>\n",
       "      <td>0.0</td>\n",
       "      <td>0.0</td>\n",
       "      <td>0.0</td>\n",
       "      <td>0.0</td>\n",
       "      <td>0.0</td>\n",
       "      <td>...</td>\n",
       "      <td>0.0</td>\n",
       "      <td>0.0</td>\n",
       "      <td>0.0</td>\n",
       "      <td>0.0</td>\n",
       "      <td>0.0</td>\n",
       "      <td>0.0</td>\n",
       "      <td>0.0</td>\n",
       "      <td>0.0</td>\n",
       "      <td>0.0</td>\n",
       "      <td>0.0</td>\n",
       "    </tr>\n",
       "    <tr>\n",
       "      <th>Somalia</th>\n",
       "      <td>0.0</td>\n",
       "      <td>0.0</td>\n",
       "      <td>0.0</td>\n",
       "      <td>0.0</td>\n",
       "      <td>0.0</td>\n",
       "      <td>0.0</td>\n",
       "      <td>0.0</td>\n",
       "      <td>0.0</td>\n",
       "      <td>0.0</td>\n",
       "      <td>0.0</td>\n",
       "      <td>...</td>\n",
       "      <td>224190.0</td>\n",
       "      <td>0.0</td>\n",
       "      <td>0.0</td>\n",
       "      <td>0.0</td>\n",
       "      <td>0.0</td>\n",
       "      <td>0.0</td>\n",
       "      <td>0.0</td>\n",
       "      <td>0.0</td>\n",
       "      <td>0.0</td>\n",
       "      <td>0.0</td>\n",
       "    </tr>\n",
       "    <tr>\n",
       "      <th>Tailandia</th>\n",
       "      <td>0.0</td>\n",
       "      <td>0.0</td>\n",
       "      <td>0.0</td>\n",
       "      <td>0.0</td>\n",
       "      <td>0.0</td>\n",
       "      <td>0.0</td>\n",
       "      <td>0.0</td>\n",
       "      <td>0.0</td>\n",
       "      <td>0.0</td>\n",
       "      <td>0.0</td>\n",
       "      <td>...</td>\n",
       "      <td>0.0</td>\n",
       "      <td>0.0</td>\n",
       "      <td>813000.0</td>\n",
       "      <td>0.0</td>\n",
       "      <td>0.0</td>\n",
       "      <td>0.0</td>\n",
       "      <td>0.0</td>\n",
       "      <td>0.0</td>\n",
       "      <td>0.0</td>\n",
       "      <td>0.0</td>\n",
       "    </tr>\n",
       "    <tr>\n",
       "      <th>Turquía</th>\n",
       "      <td>0.0</td>\n",
       "      <td>0.0</td>\n",
       "      <td>0.0</td>\n",
       "      <td>0.0</td>\n",
       "      <td>0.0</td>\n",
       "      <td>0.0</td>\n",
       "      <td>0.0</td>\n",
       "      <td>0.0</td>\n",
       "      <td>0.0</td>\n",
       "      <td>0.0</td>\n",
       "      <td>...</td>\n",
       "      <td>0.0</td>\n",
       "      <td>0.0</td>\n",
       "      <td>0.0</td>\n",
       "      <td>0.0</td>\n",
       "      <td>0.0</td>\n",
       "      <td>0.0</td>\n",
       "      <td>0.0</td>\n",
       "      <td>0.0</td>\n",
       "      <td>0.0</td>\n",
       "      <td>422990.0</td>\n",
       "    </tr>\n",
       "    <tr>\n",
       "      <th>Unknown</th>\n",
       "      <td>0.0</td>\n",
       "      <td>0.0</td>\n",
       "      <td>2992100.0</td>\n",
       "      <td>179400.0</td>\n",
       "      <td>0.0</td>\n",
       "      <td>7658180.0</td>\n",
       "      <td>0.0</td>\n",
       "      <td>0.0</td>\n",
       "      <td>0.0</td>\n",
       "      <td>62800.0</td>\n",
       "      <td>...</td>\n",
       "      <td>410200.0</td>\n",
       "      <td>2945090.0</td>\n",
       "      <td>2342300.0</td>\n",
       "      <td>2586580.0</td>\n",
       "      <td>14100.0</td>\n",
       "      <td>0.0</td>\n",
       "      <td>0.0</td>\n",
       "      <td>0.0</td>\n",
       "      <td>422500.0</td>\n",
       "      <td>859990.0</td>\n",
       "    </tr>\n",
       "  </tbody>\n",
       "</table>\n",
       "<p>27 rows × 45 columns</p>\n",
       "</div>"
      ],
      "text/plain": [
       "Categories          ASMR  ASMR, Comida y bebida  Animación  Animación, Humor  \\\n",
       "Country                                                                        \n",
       "Arabia Saudita       0.0                    0.0        0.0               0.0   \n",
       "Argelia              0.0                    0.0        0.0               0.0   \n",
       "Argentina            0.0                    0.0   224190.0               0.0   \n",
       "Bangladesh           0.0                    0.0        0.0               0.0   \n",
       "Brasil               0.0                    0.0   883900.0          533100.0   \n",
       "Colombia             0.0                    0.0        0.0          432490.0   \n",
       "Egipto               0.0                    0.0        0.0               0.0   \n",
       "España               0.0                    0.0        0.0               0.0   \n",
       "Estados Unidos  368500.0               557500.0  1112890.0         4420310.0   \n",
       "Filipinas            0.0                    0.0        0.0               0.0   \n",
       "Francia              0.0                    0.0        0.0               0.0   \n",
       "India                0.0                    0.0        0.0               0.0   \n",
       "Indonesia            0.0                    0.0        0.0               0.0   \n",
       "Iraq                 0.0                    0.0        0.0               0.0   \n",
       "Japón                0.0                    0.0        0.0               0.0   \n",
       "Jordania             0.0                    0.0        0.0               0.0   \n",
       "Marruecos            0.0                    0.0        0.0               0.0   \n",
       "México               0.0                    0.0   923690.0          448380.0   \n",
       "Pakistán             0.0                    0.0        0.0               0.0   \n",
       "Perú                 0.0                    0.0        0.0               0.0   \n",
       "Reino Unido          0.0                    0.0        0.0               0.0   \n",
       "Rusia                0.0                    0.0    17200.0          224190.0   \n",
       "Singapur             0.0                    0.0    26400.0               0.0   \n",
       "Somalia              0.0                    0.0        0.0               0.0   \n",
       "Tailandia            0.0                    0.0        0.0               0.0   \n",
       "Turquía              0.0                    0.0        0.0               0.0   \n",
       "Unknown              0.0                    0.0  2992100.0          179400.0   \n",
       "\n",
       "Categories      Animación, Humor, Juguetes  Animación, Juguetes  \\\n",
       "Country                                                           \n",
       "Arabia Saudita                         0.0                  0.0   \n",
       "Argelia                                0.0                  0.0   \n",
       "Argentina                              0.0                  0.0   \n",
       "Bangladesh                             0.0                  0.0   \n",
       "Brasil                                 0.0                  0.0   \n",
       "Colombia                               0.0                  0.0   \n",
       "Egipto                                 0.0                  0.0   \n",
       "España                                 0.0                  0.0   \n",
       "Estados Unidos                         0.0              28200.0   \n",
       "Filipinas                              0.0                  0.0   \n",
       "Francia                             8000.0                  0.0   \n",
       "India                                  0.0                  0.0   \n",
       "Indonesia                              0.0                  0.0   \n",
       "Iraq                                   0.0                  0.0   \n",
       "Japón                                  0.0                  0.0   \n",
       "Jordania                               0.0                  0.0   \n",
       "Marruecos                              0.0                  0.0   \n",
       "México                                 0.0                  0.0   \n",
       "Pakistán                               0.0                  0.0   \n",
       "Perú                                   0.0                  0.0   \n",
       "Reino Unido                            0.0                  0.0   \n",
       "Rusia                                  0.0                  0.0   \n",
       "Singapur                               0.0                  0.0   \n",
       "Somalia                                0.0                  0.0   \n",
       "Tailandia                              0.0                  0.0   \n",
       "Turquía                                0.0                  0.0   \n",
       "Unknown                                0.0            7658180.0   \n",
       "\n",
       "Categories      Animación, Videojuegos  Animales y mascotas  Belleza, Moda  \\\n",
       "Country                                                                      \n",
       "Arabia Saudita               1200000.0                  0.0            0.0   \n",
       "Argelia                            0.0                  0.0            0.0   \n",
       "Argentina                          0.0                  0.0            0.0   \n",
       "Bangladesh                         0.0                  0.0            0.0   \n",
       "Brasil                        689990.0                  0.0            0.0   \n",
       "Colombia                       16900.0                  0.0            0.0   \n",
       "Egipto                             0.0                  0.0            0.0   \n",
       "España                             0.0                  0.0            0.0   \n",
       "Estados Unidos               5539220.0             687090.0       964500.0   \n",
       "Filipinas                          0.0                  0.0            0.0   \n",
       "Francia                            0.0                  0.0            0.0   \n",
       "India                         839300.0                  0.0            0.0   \n",
       "Indonesia                      80900.0                  0.0            0.0   \n",
       "Iraq                          224190.0                  0.0            0.0   \n",
       "Japón                              0.0                  0.0            0.0   \n",
       "Jordania                           0.0                  0.0            0.0   \n",
       "Marruecos                          0.0                  0.0            0.0   \n",
       "México                       2461500.0                  0.0            0.0   \n",
       "Pakistán                           0.0                  0.0            0.0   \n",
       "Perú                               0.0                  0.0            0.0   \n",
       "Reino Unido                        0.0                  0.0            0.0   \n",
       "Rusia                         616090.0                  0.0            0.0   \n",
       "Singapur                           0.0                  0.0            0.0   \n",
       "Somalia                            0.0                  0.0            0.0   \n",
       "Tailandia                          0.0                  0.0            0.0   \n",
       "Turquía                            0.0                  0.0            0.0   \n",
       "Unknown                            0.0                  0.0            0.0   \n",
       "\n",
       "Categories      Ciencia y tecnología  ...  Películas  Películas, Animación  \\\n",
       "Country                               ...                                    \n",
       "Arabia Saudita                   0.0  ...        0.0                   0.0   \n",
       "Argelia                          0.0  ...        0.0                   0.0   \n",
       "Argentina                        0.0  ...    76600.0              594800.0   \n",
       "Bangladesh                       0.0  ...        0.0                   0.0   \n",
       "Brasil                      404100.0  ...   637590.0             3859900.0   \n",
       "Colombia                         0.0  ...        0.0                   0.0   \n",
       "Egipto                           0.0  ...    32500.0                   0.0   \n",
       "España                           0.0  ...        0.0              238400.0   \n",
       "Estados Unidos             2769070.0  ...   938370.0             3116690.0   \n",
       "Filipinas                        0.0  ...        0.0                   0.0   \n",
       "Francia                          0.0  ...        0.0                   0.0   \n",
       "India                            0.0  ...   223100.0              379590.0   \n",
       "Indonesia                    56400.0  ...   857500.0             2021390.0   \n",
       "Iraq                             0.0  ...        0.0                   0.0   \n",
       "Japón                            0.0  ...        0.0                   0.0   \n",
       "Jordania                         0.0  ...        0.0                   0.0   \n",
       "Marruecos                        0.0  ...        0.0                   0.0   \n",
       "México                     1100000.0  ...   990200.0             4809780.0   \n",
       "Pakistán                         0.0  ...        0.0               11000.0   \n",
       "Perú                             0.0  ...        0.0                   0.0   \n",
       "Reino Unido                      0.0  ...        0.0                9900.0   \n",
       "Rusia                            0.0  ...   351000.0              789700.0   \n",
       "Singapur                         0.0  ...        0.0                   0.0   \n",
       "Somalia                          0.0  ...   224190.0                   0.0   \n",
       "Tailandia                        0.0  ...        0.0                   0.0   \n",
       "Turquía                          0.0  ...        0.0                   0.0   \n",
       "Unknown                      62800.0  ...   410200.0             2945090.0   \n",
       "\n",
       "Categories      Películas, Humor  Películas, Juguetes  Películas, Videojuegos  \\\n",
       "Country                                                                         \n",
       "Arabia Saudita               0.0                  0.0                     0.0   \n",
       "Argelia                      0.0                  0.0                     0.0   \n",
       "Argentina               224190.0                  0.0                     0.0   \n",
       "Bangladesh                   0.0                  0.0                     0.0   \n",
       "Brasil                 1031500.0                  0.0                 20100.0   \n",
       "Colombia                     0.0                  0.0                     0.0   \n",
       "Egipto                       0.0                  0.0                     0.0   \n",
       "España                       0.0                  0.0                145900.0   \n",
       "Estados Unidos         3262170.0                  0.0               1050990.0   \n",
       "Filipinas               448380.0                  0.0                     0.0   \n",
       "Francia                      0.0                  0.0                     0.0   \n",
       "India                  1506590.0                  0.0                224190.0   \n",
       "Indonesia               397800.0                  0.0                     0.0   \n",
       "Iraq                         0.0                  0.0                     0.0   \n",
       "Japón                        0.0                  0.0                     0.0   \n",
       "Jordania                     0.0                  0.0                     0.0   \n",
       "Marruecos                    0.0                  0.0                     0.0   \n",
       "México                  560000.0                  0.0                519800.0   \n",
       "Pakistán                     0.0                  0.0                     0.0   \n",
       "Perú                         0.0                  0.0                     0.0   \n",
       "Reino Unido                  0.0                  0.0                     0.0   \n",
       "Rusia                        0.0                  0.0                125600.0   \n",
       "Singapur                     0.0                  0.0                     0.0   \n",
       "Somalia                      0.0                  0.0                     0.0   \n",
       "Tailandia               813000.0                  0.0                     0.0   \n",
       "Turquía                      0.0                  0.0                     0.0   \n",
       "Unknown                2342300.0            2586580.0                 14100.0   \n",
       "\n",
       "Categories      Viajes, Espectáculos  Videojuegos  Videojuegos, Humor  \\\n",
       "Country                                                                 \n",
       "Arabia Saudita                   0.0          0.0                 0.0   \n",
       "Argelia                          0.0          0.0                 0.0   \n",
       "Argentina                        0.0          0.0                 0.0   \n",
       "Bangladesh                   89500.0          0.0                 0.0   \n",
       "Brasil                           0.0          0.0                 0.0   \n",
       "Colombia                         0.0          0.0                 0.0   \n",
       "Egipto                           0.0          0.0                 0.0   \n",
       "España                           0.0     224190.0                 0.0   \n",
       "Estados Unidos                   0.0    1855570.0           4099980.0   \n",
       "Filipinas                        0.0          0.0                 0.0   \n",
       "Francia                          0.0          0.0                 0.0   \n",
       "India                            0.0          0.0            264800.0   \n",
       "Indonesia                        0.0     748400.0                 0.0   \n",
       "Iraq                             0.0          0.0                 0.0   \n",
       "Japón                            0.0          0.0                 0.0   \n",
       "Jordania                         0.0          0.0                 0.0   \n",
       "Marruecos                        0.0          0.0                 0.0   \n",
       "México                           0.0          0.0                 0.0   \n",
       "Pakistán                         0.0          0.0                 0.0   \n",
       "Perú                             0.0          0.0                 0.0   \n",
       "Reino Unido                      0.0          0.0            224190.0   \n",
       "Rusia                            0.0    3169340.0            224190.0   \n",
       "Singapur                         0.0          0.0                 0.0   \n",
       "Somalia                          0.0          0.0                 0.0   \n",
       "Tailandia                        0.0          0.0                 0.0   \n",
       "Turquía                          0.0          0.0                 0.0   \n",
       "Unknown                          0.0          0.0                 0.0   \n",
       "\n",
       "Categories      Videojuegos, Juguetes  Vlogs diarios  \n",
       "Country                                               \n",
       "Arabia Saudita                    0.0            0.0  \n",
       "Argelia                           0.0            0.0  \n",
       "Argentina                         0.0            0.0  \n",
       "Bangladesh                        0.0         7400.0  \n",
       "Brasil                            0.0       765300.0  \n",
       "Colombia                          0.0       943290.0  \n",
       "Egipto                            0.0            0.0  \n",
       "España                            0.0            0.0  \n",
       "Estados Unidos                    0.0      2291780.0  \n",
       "Filipinas                         0.0            0.0  \n",
       "Francia                           0.0       224190.0  \n",
       "India                             0.0      4295260.0  \n",
       "Indonesia                         0.0       131600.0  \n",
       "Iraq                              0.0            0.0  \n",
       "Japón                             0.0            0.0  \n",
       "Jordania                          0.0            0.0  \n",
       "Marruecos                         0.0            0.0  \n",
       "México                            0.0            0.0  \n",
       "Pakistán                          0.0        30600.0  \n",
       "Perú                              0.0            0.0  \n",
       "Reino Unido                       0.0            0.0  \n",
       "Rusia                        224190.0            0.0  \n",
       "Singapur                          0.0            0.0  \n",
       "Somalia                           0.0            0.0  \n",
       "Tailandia                         0.0            0.0  \n",
       "Turquía                           0.0       422990.0  \n",
       "Unknown                      422500.0       859990.0  \n",
       "\n",
       "[27 rows x 45 columns]"
      ]
     },
     "execution_count": 52,
     "metadata": {},
     "output_type": "execute_result"
    }
   ],
   "source": [
    "content_category_distribution = df.groupby(['Country', 'Categories'])['Visits'].sum().unstack().fillna(0)\n",
    "content_category_distribution"
   ]
  },
  {
   "cell_type": "markdown",
   "id": "56a55ad7",
   "metadata": {},
   "source": [
    "#  Performance Matrix"
   ]
  },
  {
   "cell_type": "code",
   "execution_count": 53,
   "id": "459faf49",
   "metadata": {},
   "outputs": [
    {
     "name": "stdout",
     "output_type": "stream",
     "text": [
      "average number of subscribers are 18331388.0126183\n",
      "average number of viewers are... 224190.0\n",
      "average number of Likes are... 5577.594545454558\n",
      "average number of Comments are... 1558.793948126801\n"
     ]
    }
   ],
   "source": [
    "avg_subscriber= sum(df['Suscribers']) / len(df['Suscribers'])\n",
    "avg_Visits= df['Visits'].mean()\n",
    "avg_Likes= sum(df['Likes']) / len(df['Likes'])\n",
    "avg_Comments= sum(df['Comments']) / len(df['Comments'])\n",
    "print(\"average number of subscribers are\" , avg_subscriber)\n",
    "print(\"average number of viewers are...\" , avg_Visits)\n",
    "print(\"average number of Likes are...\" , avg_Likes)\n",
    "print(\"average number of Comments are...\" , avg_Comments)"
   ]
  },
  {
   "cell_type": "code",
   "execution_count": 54,
   "id": "77a6fb76",
   "metadata": {},
   "outputs": [
    {
     "data": {
      "image/png": "[encoded data removed]",
      "text/plain": [
       "<Figure size 640x480 with 1 Axes>"
      ]
     },
     "metadata": {},
     "output_type": "display_data"
    }
   ],
   "source": [
    "categories = ['Subscribers','Visits','Likes','Comments' ]\n",
    "averages = [avg_subscriber , avg_Visits, avg_Likes, avg_Comments]\n",
    "\n",
    "plt.bar(categories, averages)\n",
    "plt.xlabel('matrics')\n",
    "plt.ylabel('Average Count')\n",
    "plt.title('Average Likes, Comments, and Subscribers')\n",
    "plt.show()"
   ]
  },
  {
   "cell_type": "markdown",
   "id": "15c89e43",
   "metadata": {},
   "source": [
    "#  Content Categories"
   ]
  },
  {
   "cell_type": "code",
   "execution_count": 55,
   "id": "77bae88e",
   "metadata": {},
   "outputs": [
    {
     "name": "stdout",
     "output_type": "stream",
     "text": [
      "The unique content categories are ['Música y baile' 'Videojuegos, Humor' 'Educación' 'Animación, Juguetes'\n",
      " 'Películas, Videojuegos' 'Juguetes' 'Videojuegos' 'Películas, Animación'\n",
      " 'Películas' 'Noticias y Política' 'Animación, Humor'\n",
      " 'Música y baile, Animación' 'Música y baile, Películas'\n",
      " 'Películas, Juguetes' 'Películas, Humor' 'Vlogs diarios'\n",
      " 'Videojuegos, Juguetes' 'Animación, Videojuegos' 'Animación'\n",
      " 'Música y baile, Humor' 'Diseño/arte, DIY y Life Hacks'\n",
      " 'Ciencia y tecnología' 'Fitness, Salud y autoayuda' 'Belleza, Moda'\n",
      " 'Humor' 'Comida y bebida' 'Deportes' 'Fitness' 'Viajes, Espectáculos'\n",
      " 'Comida y bebida, Salud y autoayuda' 'Diseño/arte'\n",
      " 'DIY y Life Hacks, Juguetes' 'Educación, Juguetes'\n",
      " 'Juguetes, Coches y vehículos' 'Música y baile, Juguetes'\n",
      " 'Animales y mascotas' 'ASMR' 'Moda' 'DIY y Life Hacks'\n",
      " 'Diseño/arte, Belleza' 'Coches y vehículos' 'Animación, Humor, Juguetes'\n",
      " 'ASMR, Comida y bebida' 'Comida y bebida, Juguetes'\n",
      " 'Juguetes, DIY y Life Hacks']\n"
     ]
    }
   ],
   "source": [
    "content_category=df['Categories'].unique()\n",
    "print(\"The unique content categories are\" , content_category )"
   ]
  },
  {
   "cell_type": "code",
   "execution_count": 56,
   "id": "5e5ab7b4",
   "metadata": {},
   "outputs": [],
   "source": [
    "# Count the number of streamers in each content category"
   ]
  },
  {
   "cell_type": "code",
   "execution_count": 57,
   "id": "90a26602",
   "metadata": {},
   "outputs": [
    {
     "name": "stdout",
     "output_type": "stream",
     "text": [
      "The unique content categories are Música y baile                        160\n",
      "Películas, Animación                   61\n",
      "Música y baile, Películas              41\n",
      "Vlogs diarios                          37\n",
      "Noticias y Política                    36\n",
      "Películas, Humor                       34\n",
      "Animación, Videojuegos                 34\n",
      "Animación, Juguetes                    29\n",
      "Animación, Humor                       27\n",
      "Películas                              24\n",
      "Educación                              24\n",
      "Animación                              22\n",
      "Videojuegos                            19\n",
      "Videojuegos, Humor                     17\n",
      "Música y baile, Animación              16\n",
      "Ciencia y tecnología                   14\n",
      "Comida y bebida                        12\n",
      "Humor                                  10\n",
      "Juguetes                               10\n",
      "Películas, Juguetes                     9\n",
      "Películas, Videojuegos                  8\n",
      "Deportes                                8\n",
      "Música y baile, Humor                   6\n",
      "Juguetes, Coches y vehículos            4\n",
      "DIY y Life Hacks                        3\n",
      "Fitness, Salud y autoayuda              3\n",
      "Videojuegos, Juguetes                   3\n",
      "Animales y mascotas                     2\n",
      "Moda                                    2\n",
      "Coches y vehículos                      2\n",
      "Educación, Juguetes                     2\n",
      "Fitness                                 2\n",
      "Comida y bebida, Juguetes               1\n",
      "ASMR, Comida y bebida                   1\n",
      "Animación, Humor, Juguetes              1\n",
      "Diseño/arte, Belleza                    1\n",
      "Belleza, Moda                           1\n",
      "ASMR                                    1\n",
      "Música y baile, Juguetes                1\n",
      "Diseño/arte, DIY y Life Hacks           1\n",
      "DIY y Life Hacks, Juguetes              1\n",
      "Diseño/arte                             1\n",
      "Comida y bebida, Salud y autoayuda      1\n",
      "Viajes, Espectáculos                    1\n",
      "Juguetes, DIY y Life Hacks              1\n",
      "Name: Categories, dtype: int64\n"
     ]
    }
   ],
   "source": [
    "category_count=df['Categories'].value_counts()\n",
    "print(\"The unique content categories are\" , category_count )"
   ]
  },
  {
   "cell_type": "code",
   "execution_count": 58,
   "id": "976a2f09",
   "metadata": {},
   "outputs": [
    {
     "data": {
      "image/png": "[encoded data removed]",
      "text/plain": [
       "<Figure size 640x480 with 1 Axes>"
      ]
     },
     "metadata": {},
     "output_type": "display_data"
    }
   ],
   "source": [
    "# Plot the distribution of streamers across content categories\n",
    "category_count.plot(kind='bar', color='skyblue')\n",
    "plt.title('Distribution of Streamers Across Content Categories')\n",
    "plt.xlabel('Content Categories')\n",
    "plt.ylabel('Number of Streamers')\n",
    "plt.tight_layout()\n",
    "plt.show()"
   ]
  },
  {
   "cell_type": "code",
   "execution_count": 59,
   "id": "12c1a1b5",
   "metadata": {},
   "outputs": [
    {
     "name": "stdout",
     "output_type": "stream",
     "text": [
      "The category with the highest number of streamers is 'Música y baile' with 160 streamers.\n"
     ]
    }
   ],
   "source": [
    "# Identify the category with the highest number of streamers\n",
    "max_category = category_count.idxmax()\n",
    "max_count = category_count.max()\n",
    "print(f\"The category with the highest number of streamers is '{max_category}' with {max_count} streamers.\")"
   ]
  },
  {
   "cell_type": "markdown",
   "id": "61f28a71",
   "metadata": {},
   "source": [
    "# Benchmarking:\n",
    "- Identify streamers with above-average performance in terms of subscribers, visits, likes, and comments.\n",
    "- Who are the top-performing content creators?"
   ]
  },
  {
   "cell_type": "code",
   "execution_count": 60,
   "id": "85008a90",
   "metadata": {},
   "outputs": [
    {
     "name": "stdout",
     "output_type": "stream",
     "text": [
      "Top-Performing Content Creators:\n",
      "         Username  Suscribers     Visits    Likes  Comments\n",
      "109  SSSniperWolf  34200000.0  1200000.0  34600.0    2100.0\n",
      "244     MrMaxLife  23900000.0   824200.0  19300.0    3000.0\n",
      "287        fgteev  22500000.0   826800.0  10300.0    2100.0\n",
      "336       Miawaug  20500000.0   748400.0  29300.0    2000.0\n"
     ]
    }
   ],
   "source": [
    "#Identify streamers with above-average performance\n",
    "above_average_streamers = df[\n",
    "    (df['Suscribers'] > avg_subscriber) &\n",
    "    (df['Visits'] > avg_Visits) &\n",
    "    (df['Likes'] > avg_Likes) &\n",
    "    (df['Comments'] > avg_Comments)\n",
    "]\n",
    "# Print top-performing content creators\n",
    "top_performers = above_average_streamers[['Username', 'Suscribers', 'Visits', 'Likes', 'Comments']]\n",
    "print(\"Top-Performing Content Creators:\")\n",
    "print(top_performers)\n",
    "\n"
   ]
  },
  {
   "cell_type": "markdown",
   "id": "2259ff56",
   "metadata": {},
   "source": [
    "#  Content Recommendations:\n",
    "- Propose a system for enhancing content recommendations to YouTube users based on streamers categories and \n",
    "performance metrics.\n"
   ]
  },
  {
   "cell_type": "code",
   "execution_count": 61,
   "id": "3a8f8ab4",
   "metadata": {},
   "outputs": [],
   "source": [
    "from sklearn.model_selection import train_test_split\n",
    "from sklearn.ensemble import RandomForestClassifier\n",
    "from sklearn.metrics import mean_absolute_error , mean_squared_error , r2_score\n",
    "from sklearn.preprocessing import LabelEncoder\n",
    "from sklearn.linear_model import LinearRegression\n"
   ]
  },
  {
   "cell_type": "code",
   "execution_count": 62,
   "id": "55662974",
   "metadata": {},
   "outputs": [
    {
     "name": "stderr",
     "output_type": "stream",
     "text": [
      "C:\\Users\\Rizwan Ramzan\\AppData\\Local\\Temp\\ipykernel_8028\\403286347.py:1: SettingWithCopyWarning: \n",
      "A value is trying to be set on a copy of a slice from a DataFrame.\n",
      "Try using .loc[row_indexer,col_indexer] = value instead\n",
      "\n",
      "See the caveats in the documentation: https://pandas.pydata.org/pandas-docs/stable/user_guide/indexing.html#returning-a-view-versus-a-copy\n",
      "  df['user_id']=range(1,len(df['Username'])+1)\n"
     ]
    }
   ],
   "source": [
    "df['user_id']=range(1,len(df['Username'])+1)"
   ]
  },
  {
   "cell_type": "code",
   "execution_count": 63,
   "id": "4191ac87",
   "metadata": {},
   "outputs": [],
   "source": [
    "x=df[['Rank','Visits','Comments']]\n",
    "y=df['user_id']"
   ]
  },
  {
   "cell_type": "code",
   "execution_count": 64,
   "id": "9cd2fbb7",
   "metadata": {},
   "outputs": [],
   "source": [
    "x_train,x_test,y_train,y_test=train_test_split(x,y,test_size=0.3)"
   ]
  },
  {
   "cell_type": "code",
   "execution_count": 65,
   "id": "dd776826",
   "metadata": {},
   "outputs": [
    {
     "data": {
      "text/plain": [
       "LinearRegression()"
      ]
     },
     "execution_count": 65,
     "metadata": {},
     "output_type": "execute_result"
    }
   ],
   "source": [
    "model = LinearRegression()\n",
    "model.fit(x_train,y_train)"
   ]
  },
  {
   "cell_type": "code",
   "execution_count": 66,
   "id": "02d902b2",
   "metadata": {},
   "outputs": [
    {
     "data": {
      "text/plain": [
       "array([605.35181895, 146.1120464 , 432.3912053 , 364.62208741,\n",
       "       200.90165822, 385.26987554, 284.04848028, 261.88267914,\n",
       "       335.44068106, 255.66335339, 114.55231388,  92.08102115,\n",
       "       637.82795608, 176.78122686, 178.00804163, 679.53253326,\n",
       "       399.87454083, 503.05143636, 298.79546902, 687.58558844,\n",
       "       521.11270319, 186.58966655, 450.63755975, 588.5514963 ,\n",
       "       288.90579231, 609.33140342, 469.56689987,  50.95232237,\n",
       "       384.02401322, 660.47324161, 356.85385053,  11.0985    ,\n",
       "       695.963938  , 232.12259883,  74.73432943, 206.42128474,\n",
       "       499.65590695, 512.10415911, 610.65757491,  15.13885417,\n",
       "       129.6442316 , 663.35916953, 172.46679318, 249.40725074,\n",
       "       296.11967559, 512.84168925, 649.3958168 , 454.05135423,\n",
       "        13.05375065, 141.28352055, 685.39544871, 261.21065602,\n",
       "       122.87020597, 351.29243648, 162.93656494, 241.84134759,\n",
       "       579.11012597, 441.47037296, 157.38042789, 148.35170192,\n",
       "       401.24832459, 445.56855147, 404.11232269, 562.88536311,\n",
       "       530.63415656, 205.79744427, 571.06125995, 181.55589223,\n",
       "       487.25129632, 151.04436546, 153.04301479, 273.14458591,\n",
       "       371.58299039, 667.00873228, 435.18101784, 421.42986917,\n",
       "       209.37396311, 650.0637141 ,  71.3761592 , 364.39643926,\n",
       "       220.56774972, 679.85784198, 356.82356041, 468.43146461,\n",
       "       621.63208707, 231.44586937, 466.04414853,  85.17302481,\n",
       "       133.11013814, 329.8772503 , 634.25263566,  19.29008235,\n",
       "       632.79541417, 342.29770948, 218.64876539, 665.33733739,\n",
       "        91.52354539, 474.14099988, 681.38346404,  33.84932559,\n",
       "       229.99454737,  81.85627149, 409.64958921, 225.99314827,\n",
       "       106.93590021, 589.86088851,  56.09886004, 306.40203406,\n",
       "       256.33127525,  41.5274069 , 139.96372798, 623.00533758,\n",
       "       152.05866291, 271.01096479, 582.81072363,  52.34127432,\n",
       "       139.27123289, 413.14312458, 370.10728213, 338.86908874,\n",
       "       114.41383844, 528.15468041, 598.28850219,   9.05556135,\n",
       "       574.52797809, 613.31453519, 307.61953155, 380.40066205,\n",
       "        70.57423715, 282.81780159, 692.02435407, 313.4905016 ,\n",
       "       604.63331429, 659.1432903 , 218.89165894, 167.02932256,\n",
       "       300.68426445, 370.70748098,  64.35296426, 479.72316171,\n",
       "       373.98652143, 120.47526155, 107.46448268,  22.86420672,\n",
       "       339.51289761, 467.74334376, 149.64061596, 573.82870248,\n",
       "        82.49742009, 396.55673791, 253.54954263, 549.80536788,\n",
       "       312.5774072 , 199.65056104, 337.62702121, 250.92860791,\n",
       "       429.75957251, 410.2068543 , 550.97697235, 688.8702178 ,\n",
       "       562.45434606, 173.94930096, 572.67602438, 330.49088196,\n",
       "       648.06579529, 296.69440135,  42.28295389, 381.23896997,\n",
       "       302.09175443, 166.73168231, 530.987716  , 333.36419006,\n",
       "       176.09358262, 109.8751509 , 304.27307916, 622.37661602,\n",
       "       501.112606  , 355.56691204,  96.14684394, 413.82979319,\n",
       "       387.05235   , 243.85743271, 507.86491496, 200.25157404,\n",
       "        45.07639977, 431.69968654, 451.13240859, 569.80714136,\n",
       "       681.94279864, 525.27019062, 490.80014467, 365.8656931 ,\n",
       "       393.59498266, 375.54876737,   4.77824006, 124.20460883,\n",
       "       558.60099484,  69.67974197, 675.74397338, 234.5777836 ,\n",
       "       640.42812003, 365.48740482, 185.63303862, 374.18304753,\n",
       "       637.64875261, 408.25857556, 140.56484179, 144.90018949,\n",
       "       462.34693692])"
      ]
     },
     "execution_count": 66,
     "metadata": {},
     "output_type": "execute_result"
    }
   ],
   "source": [
    "y_pred=model.predict(x_test)\n",
    "y_pred"
   ]
  },
  {
   "cell_type": "code",
   "execution_count": 67,
   "id": "1557104a",
   "metadata": {},
   "outputs": [
    {
     "name": "stdout",
     "output_type": "stream",
     "text": [
      "Mean Absolute Error (MAE)2.013279180588613\n",
      "Mean Squared Error (MSE) 6.038046337808261\n",
      "R-Squared (R2) 0.9998452179792778\n"
     ]
    }
   ],
   "source": [
    "#Calculate the performance matrics\n",
    "mae=mean_absolute_error(y_test,y_pred)\n",
    "mse=mean_squared_error(y_test,y_pred)\n",
    "r2=r2_score(y_test,y_pred)\n",
    "#Display the matrics\n",
    "print(f\"Mean Absolute Error (MAE){mae}\")\n",
    "print(f\"Mean Squared Error (MSE) {mse}\")\n",
    "print(f\"R-Squared (R2) {r2}\")\n",
    "\n"
   ]
  },
  {
   "cell_type": "code",
   "execution_count": 68,
   "id": "60d8a038",
   "metadata": {},
   "outputs": [
    {
     "name": "stdout",
     "output_type": "stream",
     "text": [
      "<function recomend_streamers at 0x00000295DBD3C3A0>\n"
     ]
    }
   ],
   "source": [
    "#Functions to recomend streamers based on category and performance matrics\n",
    "def recomend_streamers(categories , performance_threshold):\n",
    "    recomended_streamers = df[(df['Categories']== categories) & df['performanceMatrics'] >= performance_threshold]\n",
    "    return  recomend_streamers\n",
    "print(recomend_streamers)"
   ]
  },
  {
   "cell_type": "markdown",
   "id": "bda22aa0",
   "metadata": {},
   "source": [
    "# Conclusion"
   ]
  },
  {
   "cell_type": "markdown",
   "id": "ab87194f",
   "metadata": {},
   "source": [
    "The unique content categories are Música y baile                        160\n",
    "Correlation between Subscribers and Likes: -0.0009760580626322037\n",
    "Correlation between Subscribers and Comments: 0.052760939609958105\n",
    "average number of subscribers are 18331388.0126183\n",
    "average number of viewers are... 224190.0\n",
    "average number of Likes are... 5577.594545454558\n",
    "average number of Comments are... 1558.793948126801\n",
    "The Top-Performing Content Creators:\n",
    "         Username  Suscribers     Visits    Likes  Comments\n",
    "109  SSSniperWolf  34200000.0  1200000.0  34600.0    2100.0\n",
    "244     MrMaxLife  23900000.0   824200.0  19300.0    3000.0\n",
    "287        fgteev  22500000.0   826800.0  10300.0    2100.0\n",
    "336       Miawaug  20500000.0   748400.0  29300.0    2000.0"
   ]
  },
  {
   "cell_type": "code",
   "execution_count": null,
   "id": "a391af63",
   "metadata": {},
   "outputs": [],
   "source": []
  },
  {
   "cell_type": "code",
   "execution_count": null,
   "id": "19a50963",
   "metadata": {},
   "outputs": [],
   "source": []
  }
 ],
 "metadata": {
  "kernelspec": {
   "display_name": "Python 3 (ipykernel)",
   "language": "python",
   "name": "python3"
  },
  "language_info": {
   "codemirror_mode": {
    "name": "ipython",
    "version": 3
   },
   "file_extension": ".py",
   "mimetype": "text/x-python",
   "name": "python",
   "nbconvert_exporter": "python",
   "pygments_lexer": "ipython3",
   "version": "3.9.13"
  }
 },
 "nbformat": 4,
 "nbformat_minor": 5
}
